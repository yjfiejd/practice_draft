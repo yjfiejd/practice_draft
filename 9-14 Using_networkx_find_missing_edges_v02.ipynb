{
 "cells": [
  {
   "cell_type": "code",
   "execution_count": 1,
   "metadata": {},
   "outputs": [
    {
     "data": {
      "text/plain": [
       "{1: {2: 3, 3: 4}, 2: {3: 4, 4: 5}, 3: {4: 5}}"
      ]
     },
     "execution_count": 1,
     "metadata": {},
     "output_type": "execute_result"
    }
   ],
   "source": [
    "# 测试程序：\n",
    "answer = [\n",
    "    (1,2,3),\n",
    "    (1,3,4),\n",
    "    (2,3,4),\n",
    "    (2,4,5),\n",
    "    (3,4,5)\n",
    "]\n",
    "\n",
    "from itertools import groupby\n",
    "groups = groupby(answer, key=lambda record: record[0])\n",
    "\n",
    "\n",
    "final_dict = {}\n",
    "for groupby_key, group in groups:\n",
    "    group = [record[1:] for record in group]\n",
    "    final_dict[groupby_key] = dict(group)\n",
    "final_dict"
   ]
  },
  {
   "cell_type": "code",
   "execution_count": 2,
   "metadata": {},
   "outputs": [
    {
     "data": {
      "text/plain": [
       "defaultdict(dict, {1: {2: 2, 3: 3}, 2: {3: 3, 4: 4}, 3: {4: 4}})"
      ]
     },
     "execution_count": 2,
     "metadata": {},
     "output_type": "execute_result"
    }
   ],
   "source": [
    "# 0) 使用 defalutdict.update ,更新\n",
    "from collections import defaultdict\n",
    "final_dict = defaultdict(dict)\n",
    "\n",
    "for start_point, end_point, weight in answer:\n",
    "    final_dict[start_point].update({end_point: end_point})\n",
    "final_dict"
   ]
  },
  {
   "cell_type": "markdown",
   "metadata": {},
   "source": [
    "### 需要的目标格式：\n",
    "\"\"\"\n",
    "example = {\n",
    "\n",
    "    0: {1: {'weight':10}, 2: {'weight':6}, 3: {'weight':5}},\n",
    "    \n",
    "    1: {0: {'weight':10}, 3: {'weight':15}},\n",
    "    \n",
    "    2: {0: {'weight':6}, 3: {'weight':4}},\n",
    "    \n",
    "    3: {0: {'weight':5}, 1: {'weight':15}, 2: {'weight':4}}\n",
    "}\n",
    "\"\"\""
   ]
  },
  {
   "cell_type": "markdown",
   "metadata": {},
   "source": [
    "### 优先的尝试方法"
   ]
  },
  {
   "cell_type": "code",
   "execution_count": 3,
   "metadata": {},
   "outputs": [],
   "source": [
    "# 获得的数据，图中所有联通的数据\n",
    "graph = [(13, 112, 31), (27, 123, 31), (37, 134, 31), (113, 13, 86), (18, 17, 86), (116, 18, 86), (126, 124, 86), (126, 27, 86), (137, 135, 86), (137, 37, 86), (143, 141, 86), (191, 144, 86), (151, 54, 86), (193, 152, 86), (155, 67, 86), (71, 70, 86), (166, 163, 86), (169, 167, 86), (176, 175, 86), (196, 176, 86), (113, 110, 99), (126, 121, 99), (137, 132, 99), (191, 44, 99), (60, 56, 99), (193, 60, 99), (10, 11, 121), (122, 25, 121), (34, 35, 121), (45, 47, 121), (46, 47, 121), (48, 49, 121), (57, 59, 121), (58, 59, 121), (61, 62, 121), (73, 74, 121), (75, 76, 121), (161, 162, 121), (169, 170, 121), (110, 10, 124), (121, 122, 124), (132, 34, 124), (44, 45, 124), (44, 46, 124), (44, 48, 124), (56, 57, 124), (56, 58, 124), (60, 61, 124), (72, 75, 124), (195, 161, 124), (188, 187, 127), (109, 108, 134), (110, 8, 134), (110, 6, 134), (113, 14, 134), (121, 119, 134), (121, 120, 134), (126, 125, 134), (132, 131, 134), (132, 32, 134), (132, 128, 134), (137, 136, 134), (143, 142, 134), (191, 51, 134), (191, 145, 134), (151, 150, 134), (151, 148, 134), (193, 64, 134), (193, 153, 134), (79, 157, 134), (195, 159, 134), (195, 194, 134), (195, 79, 134), (166, 164, 134), (166, 165, 134), (169, 168, 134), (181, 101, 134), (184, 104, 134), (109, 1, 135), (5, 4, 135), (110, 5, 135), (115, 114, 135), (17, 115, 135), (118, 117, 135), (121, 118, 135), (189, 127, 135), (189, 186, 135), (132, 189, 135), (139, 138, 135), (140, 138, 135), (41, 139, 135), (41, 140, 135), (143, 41, 135), (151, 192, 135), (155, 66, 135), (71, 185, 135), (73, 72, 135), (78, 77, 135), (195, 78, 135), (84, 83, 135), (166, 85, 135), (166, 84, 135), (89, 88, 135), (169, 89, 135), (173, 172, 135), (174, 173, 135), (175, 174, 135), (180, 179, 135), (181, 100, 135), (181, 180, 135), (183, 182, 135), (184, 183, 135), (8, 111, 138), (32, 129, 138), (79, 156, 138), (131, 130, 139), (150, 149, 139), (159, 158, 139)]\n"
   ]
  },
  {
   "cell_type": "code",
   "execution_count": 4,
   "metadata": {},
   "outputs": [
    {
     "name": "stdout",
     "output_type": "stream",
     "text": [
      "[(13, 112, 31), (27, 123, 31), (37, 134, 31), (113, 13, 86), (18, 17, 86), (116, 18, 86), (126, 124, 86), (126, 27, 86), (137, 135, 86), (137, 37, 86), (143, 141, 86), (191, 144, 86), (151, 54, 86), (193, 152, 86), (155, 67, 86), (71, 70, 86), (166, 163, 86), (169, 167, 86), (176, 175, 86), (196, 176, 86), (113, 110, 99), (126, 121, 99), (137, 132, 99), (191, 44, 99), (60, 56, 99), (193, 60, 99), (10, 11, 121), (122, 25, 121), (34, 35, 121), (45, 47, 121), (46, 47, 121), (48, 49, 121), (57, 59, 121), (58, 59, 121), (61, 62, 121), (73, 74, 121), (75, 76, 121), (161, 162, 121), (169, 170, 121), (110, 10, 124), (121, 122, 124), (132, 34, 124), (44, 45, 124), (44, 46, 124), (44, 48, 124), (56, 57, 124), (56, 58, 124), (60, 61, 124), (72, 75, 124), (195, 161, 124), (188, 187, 127), (109, 108, 134), (110, 8, 134), (110, 6, 134), (113, 14, 134), (121, 119, 134), (121, 120, 134), (126, 125, 134), (132, 131, 134), (132, 32, 134), (132, 128, 134), (137, 136, 134), (143, 142, 134), (191, 51, 134), (191, 145, 134), (151, 150, 134), (151, 148, 134), (193, 64, 134), (193, 153, 134), (79, 157, 134), (195, 159, 134), (195, 194, 134), (195, 79, 134), (166, 164, 134), (166, 165, 134), (169, 168, 134), (181, 101, 134), (184, 104, 134), (109, 1, 135), (5, 4, 135), (110, 5, 135), (115, 114, 135), (17, 115, 135), (118, 117, 135), (121, 118, 135), (189, 127, 135), (189, 186, 135), (132, 189, 135), (139, 138, 135), (140, 138, 135), (41, 139, 135), (41, 140, 135), (143, 41, 135), (151, 192, 135), (155, 66, 135), (71, 185, 135), (73, 72, 135), (78, 77, 135), (195, 78, 135), (84, 83, 135), (166, 85, 135), (166, 84, 135), (89, 88, 135), (169, 89, 135), (173, 172, 135), (174, 173, 135), (175, 174, 135), (180, 179, 135), (181, 100, 135), (181, 180, 135), (183, 182, 135), (184, 183, 135), (8, 111, 138), (32, 129, 138), (79, 156, 138), (131, 130, 139), (150, 149, 139), (159, 158, 139)]\n"
     ]
    }
   ],
   "source": [
    "print(graph)"
   ]
  },
  {
   "cell_type": "code",
   "execution_count": 5,
   "metadata": {},
   "outputs": [
    {
     "data": {
      "text/plain": [
       "[(13, 112, {'weight': 31}), (27, 123, {'weight': 31})]"
      ]
     },
     "execution_count": 5,
     "metadata": {},
     "output_type": "execute_result"
    }
   ],
   "source": [
    "a = [(13, 112, 31), (27, 123, 31)]\n",
    "b = []\n",
    "\n",
    "for i,j, k in a:\n",
    "#     print(i, j, k)\n",
    "    b.append((i, j, {'weight':k}))\n",
    "b\n"
   ]
  },
  {
   "cell_type": "code",
   "execution_count": 6,
   "metadata": {},
   "outputs": [
    {
     "data": {
      "text/plain": [
       "[(13, 112, {'weight': 31}),\n",
       " (27, 123, {'weight': 31}),\n",
       " (37, 134, {'weight': 31}),\n",
       " (113, 13, {'weight': 86}),\n",
       " (18, 17, {'weight': 86}),\n",
       " (116, 18, {'weight': 86}),\n",
       " (126, 124, {'weight': 86}),\n",
       " (126, 27, {'weight': 86}),\n",
       " (137, 135, {'weight': 86}),\n",
       " (137, 37, {'weight': 86}),\n",
       " (143, 141, {'weight': 86}),\n",
       " (191, 144, {'weight': 86}),\n",
       " (151, 54, {'weight': 86}),\n",
       " (193, 152, {'weight': 86}),\n",
       " (155, 67, {'weight': 86}),\n",
       " (71, 70, {'weight': 86}),\n",
       " (166, 163, {'weight': 86}),\n",
       " (169, 167, {'weight': 86}),\n",
       " (176, 175, {'weight': 86}),\n",
       " (196, 176, {'weight': 86}),\n",
       " (113, 110, {'weight': 99}),\n",
       " (126, 121, {'weight': 99}),\n",
       " (137, 132, {'weight': 99}),\n",
       " (191, 44, {'weight': 99}),\n",
       " (60, 56, {'weight': 99}),\n",
       " (193, 60, {'weight': 99}),\n",
       " (10, 11, {'weight': 121}),\n",
       " (122, 25, {'weight': 121}),\n",
       " (34, 35, {'weight': 121}),\n",
       " (45, 47, {'weight': 121}),\n",
       " (46, 47, {'weight': 121}),\n",
       " (48, 49, {'weight': 121}),\n",
       " (57, 59, {'weight': 121}),\n",
       " (58, 59, {'weight': 121}),\n",
       " (61, 62, {'weight': 121}),\n",
       " (73, 74, {'weight': 121}),\n",
       " (75, 76, {'weight': 121}),\n",
       " (161, 162, {'weight': 121}),\n",
       " (169, 170, {'weight': 121}),\n",
       " (110, 10, {'weight': 124}),\n",
       " (121, 122, {'weight': 124}),\n",
       " (132, 34, {'weight': 124}),\n",
       " (44, 45, {'weight': 124}),\n",
       " (44, 46, {'weight': 124}),\n",
       " (44, 48, {'weight': 124}),\n",
       " (56, 57, {'weight': 124}),\n",
       " (56, 58, {'weight': 124}),\n",
       " (60, 61, {'weight': 124}),\n",
       " (72, 75, {'weight': 124}),\n",
       " (195, 161, {'weight': 124}),\n",
       " (188, 187, {'weight': 127}),\n",
       " (109, 108, {'weight': 134}),\n",
       " (110, 8, {'weight': 134}),\n",
       " (110, 6, {'weight': 134}),\n",
       " (113, 14, {'weight': 134}),\n",
       " (121, 119, {'weight': 134}),\n",
       " (121, 120, {'weight': 134}),\n",
       " (126, 125, {'weight': 134}),\n",
       " (132, 131, {'weight': 134}),\n",
       " (132, 32, {'weight': 134}),\n",
       " (132, 128, {'weight': 134}),\n",
       " (137, 136, {'weight': 134}),\n",
       " (143, 142, {'weight': 134}),\n",
       " (191, 51, {'weight': 134}),\n",
       " (191, 145, {'weight': 134}),\n",
       " (151, 150, {'weight': 134}),\n",
       " (151, 148, {'weight': 134}),\n",
       " (193, 64, {'weight': 134}),\n",
       " (193, 153, {'weight': 134}),\n",
       " (79, 157, {'weight': 134}),\n",
       " (195, 159, {'weight': 134}),\n",
       " (195, 194, {'weight': 134}),\n",
       " (195, 79, {'weight': 134}),\n",
       " (166, 164, {'weight': 134}),\n",
       " (166, 165, {'weight': 134}),\n",
       " (169, 168, {'weight': 134}),\n",
       " (181, 101, {'weight': 134}),\n",
       " (184, 104, {'weight': 134}),\n",
       " (109, 1, {'weight': 135}),\n",
       " (5, 4, {'weight': 135}),\n",
       " (110, 5, {'weight': 135}),\n",
       " (115, 114, {'weight': 135}),\n",
       " (17, 115, {'weight': 135}),\n",
       " (118, 117, {'weight': 135}),\n",
       " (121, 118, {'weight': 135}),\n",
       " (189, 127, {'weight': 135}),\n",
       " (189, 186, {'weight': 135}),\n",
       " (132, 189, {'weight': 135}),\n",
       " (139, 138, {'weight': 135}),\n",
       " (140, 138, {'weight': 135}),\n",
       " (41, 139, {'weight': 135}),\n",
       " (41, 140, {'weight': 135}),\n",
       " (143, 41, {'weight': 135}),\n",
       " (151, 192, {'weight': 135}),\n",
       " (155, 66, {'weight': 135}),\n",
       " (71, 185, {'weight': 135}),\n",
       " (73, 72, {'weight': 135}),\n",
       " (78, 77, {'weight': 135}),\n",
       " (195, 78, {'weight': 135}),\n",
       " (84, 83, {'weight': 135}),\n",
       " (166, 85, {'weight': 135}),\n",
       " (166, 84, {'weight': 135}),\n",
       " (89, 88, {'weight': 135}),\n",
       " (169, 89, {'weight': 135}),\n",
       " (173, 172, {'weight': 135}),\n",
       " (174, 173, {'weight': 135}),\n",
       " (175, 174, {'weight': 135}),\n",
       " (180, 179, {'weight': 135}),\n",
       " (181, 100, {'weight': 135}),\n",
       " (181, 180, {'weight': 135}),\n",
       " (183, 182, {'weight': 135}),\n",
       " (184, 183, {'weight': 135}),\n",
       " (8, 111, {'weight': 138}),\n",
       " (32, 129, {'weight': 138}),\n",
       " (79, 156, {'weight': 138}),\n",
       " (131, 130, {'weight': 139}),\n",
       " (150, 149, {'weight': 139}),\n",
       " (159, 158, {'weight': 139})]"
      ]
     },
     "execution_count": 6,
     "metadata": {},
     "output_type": "execute_result"
    }
   ],
   "source": [
    "new_graph = []\n",
    "for i, j, k in graph:\n",
    "    new_graph.append((i, j, {'weight':k}))\n",
    "new_graph\n",
    "    "
   ]
  },
  {
   "cell_type": "code",
   "execution_count": 7,
   "metadata": {},
   "outputs": [
    {
     "data": {
      "text/plain": [
       "defaultdict(dict,\n",
       "            {13: {112: {'weight': 31}},\n",
       "             27: {123: {'weight': 31}},\n",
       "             37: {134: {'weight': 31}},\n",
       "             113: {13: {'weight': 86},\n",
       "              110: {'weight': 99},\n",
       "              14: {'weight': 134}},\n",
       "             18: {17: {'weight': 86}},\n",
       "             116: {18: {'weight': 86}},\n",
       "             126: {124: {'weight': 86},\n",
       "              27: {'weight': 86},\n",
       "              121: {'weight': 99},\n",
       "              125: {'weight': 134}},\n",
       "             137: {135: {'weight': 86},\n",
       "              37: {'weight': 86},\n",
       "              132: {'weight': 99},\n",
       "              136: {'weight': 134}},\n",
       "             143: {141: {'weight': 86},\n",
       "              142: {'weight': 134},\n",
       "              41: {'weight': 135}},\n",
       "             191: {144: {'weight': 86},\n",
       "              44: {'weight': 99},\n",
       "              51: {'weight': 134},\n",
       "              145: {'weight': 134}},\n",
       "             151: {54: {'weight': 86},\n",
       "              150: {'weight': 134},\n",
       "              148: {'weight': 134},\n",
       "              192: {'weight': 135}},\n",
       "             193: {152: {'weight': 86},\n",
       "              60: {'weight': 99},\n",
       "              64: {'weight': 134},\n",
       "              153: {'weight': 134}},\n",
       "             155: {67: {'weight': 86}, 66: {'weight': 135}},\n",
       "             71: {70: {'weight': 86}, 185: {'weight': 135}},\n",
       "             166: {163: {'weight': 86},\n",
       "              164: {'weight': 134},\n",
       "              165: {'weight': 134},\n",
       "              85: {'weight': 135},\n",
       "              84: {'weight': 135}},\n",
       "             169: {167: {'weight': 86},\n",
       "              170: {'weight': 121},\n",
       "              168: {'weight': 134},\n",
       "              89: {'weight': 135}},\n",
       "             176: {175: {'weight': 86}},\n",
       "             196: {176: {'weight': 86}},\n",
       "             60: {56: {'weight': 99}, 61: {'weight': 124}},\n",
       "             10: {11: {'weight': 121}},\n",
       "             122: {25: {'weight': 121}},\n",
       "             34: {35: {'weight': 121}},\n",
       "             45: {47: {'weight': 121}},\n",
       "             46: {47: {'weight': 121}},\n",
       "             48: {49: {'weight': 121}},\n",
       "             57: {59: {'weight': 121}},\n",
       "             58: {59: {'weight': 121}},\n",
       "             61: {62: {'weight': 121}},\n",
       "             73: {74: {'weight': 121}, 72: {'weight': 135}},\n",
       "             75: {76: {'weight': 121}},\n",
       "             161: {162: {'weight': 121}},\n",
       "             110: {10: {'weight': 124},\n",
       "              8: {'weight': 134},\n",
       "              6: {'weight': 134},\n",
       "              5: {'weight': 135}},\n",
       "             121: {122: {'weight': 124},\n",
       "              119: {'weight': 134},\n",
       "              120: {'weight': 134},\n",
       "              118: {'weight': 135}},\n",
       "             132: {34: {'weight': 124},\n",
       "              131: {'weight': 134},\n",
       "              32: {'weight': 134},\n",
       "              128: {'weight': 134},\n",
       "              189: {'weight': 135}},\n",
       "             44: {45: {'weight': 124},\n",
       "              46: {'weight': 124},\n",
       "              48: {'weight': 124}},\n",
       "             56: {57: {'weight': 124}, 58: {'weight': 124}},\n",
       "             72: {75: {'weight': 124}},\n",
       "             195: {161: {'weight': 124},\n",
       "              159: {'weight': 134},\n",
       "              194: {'weight': 134},\n",
       "              79: {'weight': 134},\n",
       "              78: {'weight': 135}},\n",
       "             188: {187: {'weight': 127}},\n",
       "             109: {108: {'weight': 134}, 1: {'weight': 135}},\n",
       "             79: {157: {'weight': 134}, 156: {'weight': 138}},\n",
       "             181: {101: {'weight': 134},\n",
       "              100: {'weight': 135},\n",
       "              180: {'weight': 135}},\n",
       "             184: {104: {'weight': 134}, 183: {'weight': 135}},\n",
       "             5: {4: {'weight': 135}},\n",
       "             115: {114: {'weight': 135}},\n",
       "             17: {115: {'weight': 135}},\n",
       "             118: {117: {'weight': 135}},\n",
       "             189: {127: {'weight': 135}, 186: {'weight': 135}},\n",
       "             139: {138: {'weight': 135}},\n",
       "             140: {138: {'weight': 135}},\n",
       "             41: {139: {'weight': 135}, 140: {'weight': 135}},\n",
       "             78: {77: {'weight': 135}},\n",
       "             84: {83: {'weight': 135}},\n",
       "             89: {88: {'weight': 135}},\n",
       "             173: {172: {'weight': 135}},\n",
       "             174: {173: {'weight': 135}},\n",
       "             175: {174: {'weight': 135}},\n",
       "             180: {179: {'weight': 135}},\n",
       "             183: {182: {'weight': 135}},\n",
       "             8: {111: {'weight': 138}},\n",
       "             32: {129: {'weight': 138}},\n",
       "             131: {130: {'weight': 139}},\n",
       "             150: {149: {'weight': 139}},\n",
       "             159: {158: {'weight': 139}}})"
      ]
     },
     "execution_count": 7,
     "metadata": {},
     "output_type": "execute_result"
    }
   ],
   "source": [
    "# 初步获得需要的字典格式 （正确的示范，先改变了原来tuple的值）：\n",
    "final_dict = defaultdict(dict)\n",
    "\n",
    "for start_point, end_point, weight in new_graph:\n",
    "    final_dict[start_point].update({end_point: weight})\n",
    "final_dict"
   ]
  },
  {
   "cell_type": "code",
   "execution_count": null,
   "metadata": {},
   "outputs": [],
   "source": []
  },
  {
   "cell_type": "code",
   "execution_count": 8,
   "metadata": {},
   "outputs": [],
   "source": [
    "################################################"
   ]
  },
  {
   "cell_type": "markdown",
   "metadata": {},
   "source": [
    "### [核心的转换函数如下]"
   ]
  },
  {
   "cell_type": "code",
   "execution_count": 9,
   "metadata": {},
   "outputs": [],
   "source": [
    "from collections import defaultdict\n",
    "\n",
    "#1) 步骤一：把i, j, k位置的k修改一下。\n",
    "def change_z(graph):\n",
    "    new_graph = []\n",
    "    for i, j, k in graph:\n",
    "        new_graph.append((i, j, {'weight': k}))\n",
    "    return new_graph\n",
    "\n",
    "\n",
    "# 2） 步骤二：形成key：value格式，\n",
    "def get_target_graph(graph):\n",
    "    final_dict = defaultdict(dict)\n",
    "    for start_point, end_point, weight in graph:\n",
    "        final_dict[start_point].update({end_point: weight})\n",
    "    return final_dict\n",
    "\n",
    "\n",
    "# 3） 组合前两个函数\n",
    "def graph_transform(graph):\n",
    "    new_graph = change_z(graph)\n",
    "    final_dict = get_target_graph(new_graph)\n",
    "    return final_dict"
   ]
  },
  {
   "cell_type": "code",
   "execution_count": 11,
   "metadata": {},
   "outputs": [
    {
     "data": {
      "text/plain": [
       "defaultdict(dict,\n",
       "            {13: {112: {'weight': 31}},\n",
       "             27: {123: {'weight': 31}},\n",
       "             37: {134: {'weight': 31}},\n",
       "             113: {13: {'weight': 86},\n",
       "              110: {'weight': 99},\n",
       "              14: {'weight': 134}},\n",
       "             18: {17: {'weight': 86}},\n",
       "             116: {18: {'weight': 86}},\n",
       "             126: {124: {'weight': 86},\n",
       "              27: {'weight': 86},\n",
       "              121: {'weight': 99},\n",
       "              125: {'weight': 134}},\n",
       "             137: {135: {'weight': 86},\n",
       "              37: {'weight': 86},\n",
       "              132: {'weight': 99},\n",
       "              136: {'weight': 134}},\n",
       "             143: {141: {'weight': 86},\n",
       "              142: {'weight': 134},\n",
       "              41: {'weight': 135}},\n",
       "             191: {144: {'weight': 86},\n",
       "              44: {'weight': 99},\n",
       "              51: {'weight': 134},\n",
       "              145: {'weight': 134}},\n",
       "             151: {54: {'weight': 86},\n",
       "              150: {'weight': 134},\n",
       "              148: {'weight': 134},\n",
       "              192: {'weight': 135}},\n",
       "             193: {152: {'weight': 86},\n",
       "              60: {'weight': 99},\n",
       "              64: {'weight': 134},\n",
       "              153: {'weight': 134}},\n",
       "             155: {67: {'weight': 86}, 66: {'weight': 135}},\n",
       "             71: {70: {'weight': 86}, 185: {'weight': 135}},\n",
       "             166: {163: {'weight': 86},\n",
       "              164: {'weight': 134},\n",
       "              165: {'weight': 134},\n",
       "              85: {'weight': 135},\n",
       "              84: {'weight': 135}},\n",
       "             169: {167: {'weight': 86},\n",
       "              170: {'weight': 121},\n",
       "              168: {'weight': 134},\n",
       "              89: {'weight': 135}},\n",
       "             176: {175: {'weight': 86}},\n",
       "             196: {176: {'weight': 86}},\n",
       "             60: {56: {'weight': 99}, 61: {'weight': 124}},\n",
       "             10: {11: {'weight': 121}},\n",
       "             122: {25: {'weight': 121}},\n",
       "             34: {35: {'weight': 121}},\n",
       "             45: {47: {'weight': 121}},\n",
       "             46: {47: {'weight': 121}},\n",
       "             48: {49: {'weight': 121}},\n",
       "             57: {59: {'weight': 121}},\n",
       "             58: {59: {'weight': 121}},\n",
       "             61: {62: {'weight': 121}},\n",
       "             73: {74: {'weight': 121}, 72: {'weight': 135}},\n",
       "             75: {76: {'weight': 121}},\n",
       "             161: {162: {'weight': 121}},\n",
       "             110: {10: {'weight': 124},\n",
       "              8: {'weight': 134},\n",
       "              6: {'weight': 134},\n",
       "              5: {'weight': 135}},\n",
       "             121: {122: {'weight': 124},\n",
       "              119: {'weight': 134},\n",
       "              120: {'weight': 134},\n",
       "              118: {'weight': 135}},\n",
       "             132: {34: {'weight': 124},\n",
       "              131: {'weight': 134},\n",
       "              32: {'weight': 134},\n",
       "              128: {'weight': 134},\n",
       "              189: {'weight': 135}},\n",
       "             44: {45: {'weight': 124},\n",
       "              46: {'weight': 124},\n",
       "              48: {'weight': 124}},\n",
       "             56: {57: {'weight': 124}, 58: {'weight': 124}},\n",
       "             72: {75: {'weight': 124}},\n",
       "             195: {161: {'weight': 124},\n",
       "              159: {'weight': 134},\n",
       "              194: {'weight': 134},\n",
       "              79: {'weight': 134},\n",
       "              78: {'weight': 135}},\n",
       "             188: {187: {'weight': 127}},\n",
       "             109: {108: {'weight': 134}, 1: {'weight': 135}},\n",
       "             79: {157: {'weight': 134}, 156: {'weight': 138}},\n",
       "             181: {101: {'weight': 134},\n",
       "              100: {'weight': 135},\n",
       "              180: {'weight': 135}},\n",
       "             184: {104: {'weight': 134}, 183: {'weight': 135}},\n",
       "             5: {4: {'weight': 135}},\n",
       "             115: {114: {'weight': 135}},\n",
       "             17: {115: {'weight': 135}},\n",
       "             118: {117: {'weight': 135}},\n",
       "             189: {127: {'weight': 135}, 186: {'weight': 135}},\n",
       "             139: {138: {'weight': 135}},\n",
       "             140: {138: {'weight': 135}},\n",
       "             41: {139: {'weight': 135}, 140: {'weight': 135}},\n",
       "             78: {77: {'weight': 135}},\n",
       "             84: {83: {'weight': 135}},\n",
       "             89: {88: {'weight': 135}},\n",
       "             173: {172: {'weight': 135}},\n",
       "             174: {173: {'weight': 135}},\n",
       "             175: {174: {'weight': 135}},\n",
       "             180: {179: {'weight': 135}},\n",
       "             183: {182: {'weight': 135}},\n",
       "             8: {111: {'weight': 138}},\n",
       "             32: {129: {'weight': 138}},\n",
       "             131: {130: {'weight': 139}},\n",
       "             150: {149: {'weight': 139}},\n",
       "             159: {158: {'weight': 139}}})"
      ]
     },
     "execution_count": 11,
     "metadata": {},
     "output_type": "execute_result"
    }
   ],
   "source": [
    "graph_transform(graph)"
   ]
  },
  {
   "cell_type": "code",
   "execution_count": 12,
   "metadata": {},
   "outputs": [],
   "source": [
    "#  【3】 把所有的weight设置为0\n",
    "new_graph_1 = {13: {112: {'weight': 31}}, 27: {123: {'weight': 31}}, 37: {134: {'weight': 31}},\n",
    "               113: {13: {'weight': 86}, 110: {'weight': 99}, 14: {'weight': 134}}, 18: {17: {'weight': 86}},\n",
    "               116: {18: {'weight': 86}},\n",
    "               126: {124: {'weight': 86}, 27: {'weight': 86}, 121: {'weight': 99}, 125: {'weight': 134}},\n",
    "               137: {135: {'weight': 86}, 37: {'weight': 86}, 132: {'weight': 99}, 136: {'weight': 134}},\n",
    "               143: {141: {'weight': 86}, 142: {'weight': 134}, 41: {'weight': 135}},\n",
    "               191: {144: {'weight': 86}, 44: {'weight': 99}, 51: {'weight': 134}, 145: {'weight': 134}},\n",
    "               151: {54: {'weight': 86}, 150: {'weight': 134}, 148: {'weight': 134}, 192: {'weight': 135}},\n",
    "               193: {152: {'weight': 86}, 60: {'weight': 99}, 64: {'weight': 134}, 153: {'weight': 134}},\n",
    "               155: {67: {'weight': 86}, 66: {'weight': 135}}, 71: {70: {'weight': 86}, 185: {'weight': 135}},\n",
    "               166: {163: {'weight': 86}, 164: {'weight': 134}, 165: {'weight': 134}, 85: {'weight': 135},\n",
    "                     84: {'weight': 135}},\n",
    "               169: {167: {'weight': 86}, 170: {'weight': 121}, 168: {'weight': 134}, 89: {'weight': 135}},\n",
    "               176: {175: {'weight': 86}}, 196: {176: {'weight': 86}}, 60: {56: {'weight': 99}, 61: {'weight': 124}},\n",
    "               10: {11: {'weight': 121}}, 122: {25: {'weight': 121}}, 34: {35: {'weight': 121}},\n",
    "               45: {47: {'weight': 121}}, 46: {47: {'weight': 121}}, 48: {49: {'weight': 121}},\n",
    "               57: {59: {'weight': 121}}, 58: {59: {'weight': 121}}, 61: {62: {'weight': 121}},\n",
    "               73: {74: {'weight': 121}, 72: {'weight': 135}}, 75: {76: {'weight': 121}}, 161: {162: {'weight': 121}},\n",
    "               110: {10: {'weight': 124}, 8: {'weight': 134}, 6: {'weight': 134}, 5: {'weight': 135}},\n",
    "               121: {122: {'weight': 124}, 119: {'weight': 134}, 120: {'weight': 134}, 118: {'weight': 135}},\n",
    "               132: {34: {'weight': 124}, 131: {'weight': 134}, 32: {'weight': 134}, 128: {'weight': 134},\n",
    "                     189: {'weight': 135}}, 44: {45: {'weight': 124}, 46: {'weight': 124}, 48: {'weight': 124}},\n",
    "               56: {57: {'weight': 124}, 58: {'weight': 124}}, 72: {75: {'weight': 124}},\n",
    "               195: {161: {'weight': 124}, 159: {'weight': 134}, 194: {'weight': 134}, 79: {'weight': 134},\n",
    "                     78: {'weight': 135}}, 188: {187: {'weight': 127}}, 109: {108: {'weight': 134}, 1: {'weight': 135}},\n",
    "               79: {157: {'weight': 134}, 156: {'weight': 138}},\n",
    "               181: {101: {'weight': 134}, 100: {'weight': 135}, 180: {'weight': 135}},\n",
    "               184: {104: {'weight': 134}, 183: {'weight': 135}}, 5: {4: {'weight': 135}}, 115: {114: {'weight': 135}},\n",
    "               17: {115: {'weight': 135}}, 118: {117: {'weight': 135}},\n",
    "               189: {127: {'weight': 135}, 186: {'weight': 135}}, 139: {138: {'weight': 135}},\n",
    "               140: {138: {'weight': 135}}, 41: {139: {'weight': 135}, 140: {'weight': 135}}, 78: {77: {'weight': 135}},\n",
    "               84: {83: {'weight': 135}}, 89: {88: {'weight': 135}}, 173: {172: {'weight': 135}},\n",
    "               174: {173: {'weight': 135}}, 175: {174: {'weight': 135}}, 180: {179: {'weight': 135}},\n",
    "               183: {182: {'weight': 135}}, 8: {111: {'weight': 138}}, 32: {129: {'weight': 138}},\n",
    "               131: {130: {'weight': 139}}, 150: {149: {'weight': 139}}, 159: {158: {'weight': 139}}}"
   ]
  },
  {
   "cell_type": "code",
   "execution_count": null,
   "metadata": {},
   "outputs": [],
   "source": []
  },
  {
   "cell_type": "code",
   "execution_count": null,
   "metadata": {},
   "outputs": [],
   "source": [
    "# for key in gr"
   ]
  },
  {
   "cell_type": "code",
   "execution_count": null,
   "metadata": {},
   "outputs": [],
   "source": [
    "a = [1, 108, 109]\n",
    "for i in new_graph_1:\n",
    "    if i in a:\n",
    "        print(i,new_graph_1[i])"
   ]
  },
  {
   "cell_type": "code",
   "execution_count": null,
   "metadata": {},
   "outputs": [],
   "source": [
    "b = [4, 5, 6, 8, 10, 11, 13, 110, 14, 111, 113, 112]\n",
    "test={}\n",
    "for i in new_graph_1:\n",
    "    if i in b:\n",
    "        test[i]=new_graph_1[i]\n",
    "        print(i,new_graph_1[i])\n",
    "        \n",
    "print(test)"
   ]
  },
  {
   "cell_type": "code",
   "execution_count": null,
   "metadata": {},
   "outputs": [],
   "source": []
  },
  {
   "cell_type": "code",
   "execution_count": null,
   "metadata": {},
   "outputs": [],
   "source": [
    "################################################"
   ]
  },
  {
   "cell_type": "markdown",
   "metadata": {},
   "source": [
    "   "
   ]
  },
  {
   "cell_type": "code",
   "execution_count": null,
   "metadata": {
    "scrolled": true
   },
   "outputs": [],
   "source": [
    "# 初步获得需要的字典格式 ( 错误的示范)：\n",
    "final_dict = defaultdict(dict)\n",
    "\n",
    "for start_point, end_point, weight in graph:\n",
    "    final_dict[start_point].update({end_point: weight})\n",
    "final_dict"
   ]
  },
  {
   "cell_type": "markdown",
   "metadata": {},
   "source": [
    "### 其他的尝试方法"
   ]
  },
  {
   "cell_type": "code",
   "execution_count": null,
   "metadata": {},
   "outputs": [],
   "source": [
    "# from collections import defaultdict\n",
    "# Mst_tree_dict_2 = defaultdict(set)\n",
    "\n",
    "# for k, v, z in graph:\n",
    "#     Mst_tree_dict_2[k].add(v )\n",
    "# Mst_tree_dict_2"
   ]
  },
  {
   "cell_type": "code",
   "execution_count": null,
   "metadata": {
    "scrolled": false
   },
   "outputs": [],
   "source": [
    "# for i in Mst_tree_dict_2:\n",
    "#     for j in Mst_tree_dict_2[i]:\n",
    "#         if j in list_v_z:\n",
    "#             j = list_v_z[j]\n",
    "#             print(j)\n",
    "# Mst_tree_dict_2"
   ]
  },
  {
   "cell_type": "code",
   "execution_count": null,
   "metadata": {},
   "outputs": [],
   "source": [
    "# list.append()字典在for循环中数据覆盖的分析与解决 --> 自定义字典格式，\n",
    "# 1) 第三成字典 - ‘weight’:z\n",
    "def change_z(graph):\n",
    "    list_z = []\n",
    "    for k, v, z in graph:\n",
    "        dict_z = {'weight': ''}\n",
    "        dict_z['weight'] = z\n",
    "        list_z.append(dict_z)\n",
    "    return list_z"
   ]
  },
  {
   "cell_type": "code",
   "execution_count": null,
   "metadata": {
    "scrolled": true
   },
   "outputs": [],
   "source": [
    "# list_z = change_z(graph)\n",
    "# list_z"
   ]
  },
  {
   "cell_type": "code",
   "execution_count": null,
   "metadata": {},
   "outputs": [],
   "source": [
    "# 2) 第二层字典 - v:{'weight':z} 搞定 --> 使用dict(zip(a, b)) 组合两个字典，匹配\n",
    "def change_v_z(graph):\n",
    "    list_z = change_z(graph)\n",
    "    list_v = []\n",
    "    for k, v, z in graph:\n",
    "        list_v.append(v)\n",
    "    dict_v_z = dict(zip(list_v, list_z))\n",
    "    return dict_v_z"
   ]
  },
  {
   "cell_type": "code",
   "execution_count": null,
   "metadata": {},
   "outputs": [],
   "source": [
    "# 两个字典，合并\n",
    "a = {1, 2, 3}\n",
    "b = {4, 5, 6}\n",
    "\n",
    "dict1 = dict(zip(a, b))\n",
    "print(dict1)"
   ]
  },
  {
   "cell_type": "code",
   "execution_count": null,
   "metadata": {
    "scrolled": true
   },
   "outputs": [],
   "source": [
    "list_v_z = change_v_z(graph)\n",
    "list_v_z"
   ]
  },
  {
   "cell_type": "code",
   "execution_count": null,
   "metadata": {},
   "outputs": [],
   "source": [
    "if 112 in list_v_z:\n",
    "    print(11)\n",
    "    print(list_v_z[112])"
   ]
  },
  {
   "cell_type": "code",
   "execution_count": null,
   "metadata": {},
   "outputs": [],
   "source": [
    "# 2.1) 第二层字典结果修改为list格式，后续继续dict(zip(a, b))，注意使用.items()才能够把每一条取出来\n",
    "def change_v_z_new(graph):\n",
    "    list_v_z = change_v_z(graph)\n",
    "    list_v_z_new = []\n",
    "    for i in list_v_z.items():\n",
    "        list_v_z_new.append(i)\n",
    "    return list_v_z_new"
   ]
  },
  {
   "cell_type": "code",
   "execution_count": null,
   "metadata": {},
   "outputs": [],
   "source": [
    "list_v_z_new = change_v_z_new(graph)\n",
    "list_v_z_new"
   ]
  },
  {
   "cell_type": "code",
   "execution_count": null,
   "metadata": {},
   "outputs": [],
   "source": [
    "# 3) 第一层字典 - k:v:{'weight':z}\n",
    "\n",
    "list_v_z = change_v_z(graph)\n",
    "# list_v_z\n",
    "list_k = []\n",
    "for k, v, z in graph:\n",
    "    list_k.append(k)\n",
    "# list_k\n",
    "dict_k_v_z = dict(zip(list_k, list_v_z.items()))\n",
    "dict_k_v_z\n",
    "\n",
    "\n",
    "# def change_k_v_z(graph):\n",
    "#     list_v_z = change_v_z(graph)\n",
    "#     list_k = []\n",
    "#     for k, v, z in graph:\n",
    "#         list_k.append(k)        \n",
    "#     dict_k_v_z = dict(zip(list_k, list_v_z)\n",
    "#     return dict_k_v_z\n",
    "for k, v, z in dict_k_v_z:\n",
    "    pritn(k, v, z)"
   ]
  },
  {
   "cell_type": "code",
   "execution_count": null,
   "metadata": {
    "scrolled": true
   },
   "outputs": [],
   "source": [
    "list_k_v_z = change_k_v_z(graph)\n",
    "list_k_v_z # 这就是最终需要的答案，格式转换成功"
   ]
  },
  {
   "cell_type": "code",
   "execution_count": null,
   "metadata": {},
   "outputs": [],
   "source": [
    "# example = {\n",
    "#     0: {1: {'weight':10}, 2: {'weight':6}, 3: {'weight':5}},\n",
    "#     1: {0: {'weight':10}, 3: {'weight':15}},\n",
    "#     2: {0: {'weight':6}, 3: {'weight':4}},\n",
    "#     3: {0: {'weight':5}, 1: {'weight':15}, 2: {'weight':4}}\n",
    "# }"
   ]
  },
  {
   "cell_type": "markdown",
   "metadata": {},
   "source": [
    "### 其他的测试"
   ]
  },
  {
   "cell_type": "code",
   "execution_count": null,
   "metadata": {},
   "outputs": [],
   "source": [
    "\n",
    "################################################"
   ]
  },
  {
   "cell_type": "markdown",
   "metadata": {},
   "source": [
    "### 最后【发现居然需要使用 spanning tree 作为输入】"
   ]
  },
  {
   "cell_type": "code",
   "execution_count": null,
   "metadata": {},
   "outputs": [],
   "source": [
    "# 发现最小生成树的边的集合，就是原有边的集合-多余的边"
   ]
  },
  {
   "cell_type": "code",
   "execution_count": null,
   "metadata": {},
   "outputs": [],
   "source": [
    "graph = "
   ]
  },
  {
   "cell_type": "code",
   "execution_count": null,
   "metadata": {},
   "outputs": [],
   "source": [
    "spanning_tree_graph = "
   ]
  },
  {
   "cell_type": "code",
   "execution_count": null,
   "metadata": {},
   "outputs": [],
   "source": []
  },
  {
   "cell_type": "code",
   "execution_count": null,
   "metadata": {},
   "outputs": [],
   "source": []
  },
  {
   "cell_type": "code",
   "execution_count": null,
   "metadata": {},
   "outputs": [],
   "source": [
    "################################################"
   ]
  }
 ],
 "metadata": {
  "kernelspec": {
   "display_name": "Python 3",
   "language": "python",
   "name": "python3"
  },
  "language_info": {
   "codemirror_mode": {
    "name": "ipython",
    "version": 3
   },
   "file_extension": ".py",
   "mimetype": "text/x-python",
   "name": "python",
   "nbconvert_exporter": "python",
   "pygments_lexer": "ipython3",
   "version": "3.6.5"
  }
 },
 "nbformat": 4,
 "nbformat_minor": 2
}
