{
 "cells": [
  {
   "cell_type": "code",
   "execution_count": 1,
   "metadata": {},
   "outputs": [],
   "source": [
    "graph = {\n",
    "    \"A\": {\"B\": 5, \"C\": 1},\n",
    "    \"B\": {\"A\": 5, \"C\": 2, \"D\": 1},\n",
    "    \"C\": {\"A\": 1, \"B\": 2, \"D\": 4, \"E\": 8},\n",
    "    \"D\": {\"B\": 1, \"C\": 4, \"E\": 3, \"F\": 6},\n",
    "    \"E\": {\"C\": 8, \"D\": 3},\n",
    "    \"F\": {\"D\": 6}\n",
    "}"
   ]
  },
  {
   "cell_type": "code",
   "execution_count": null,
   "metadata": {},
   "outputs": [],
   "source": []
  },
  {
   "cell_type": "code",
   "execution_count": null,
   "metadata": {},
   "outputs": [],
   "source": []
  },
  {
   "cell_type": "code",
   "execution_count": null,
   "metadata": {},
   "outputs": [],
   "source": []
  },
  {
   "cell_type": "code",
   "execution_count": 2,
   "metadata": {},
   "outputs": [],
   "source": [
    "V = len(graph)"
   ]
  },
  {
   "cell_type": "code",
   "execution_count": 3,
   "metadata": {},
   "outputs": [
    {
     "data": {
      "text/plain": [
       "6"
      ]
     },
     "execution_count": 3,
     "metadata": {},
     "output_type": "execute_result"
    }
   ],
   "source": [
    "V"
   ]
  },
  {
   "cell_type": "code",
   "execution_count": 25,
   "metadata": {},
   "outputs": [
    {
     "data": {
      "text/plain": [
       "[0, 0, 0, 0, 0, 0]"
      ]
     },
     "execution_count": 25,
     "metadata": {},
     "output_type": "execute_result"
    }
   ],
   "source": [
    "[0 for i in range(6)]"
   ]
  },
  {
   "cell_type": "code",
   "execution_count": 4,
   "metadata": {},
   "outputs": [
    {
     "data": {
      "text/plain": [
       "[[], [], [], [], [], []]"
      ]
     },
     "execution_count": 4,
     "metadata": {},
     "output_type": "execute_result"
    }
   ],
   "source": [
    "[[] for i in range(V)]"
   ]
  },
  {
   "cell_type": "code",
   "execution_count": 10,
   "metadata": {},
   "outputs": [],
   "source": [
    "from enum import Enum\n",
    "\n",
    "class COLOR(Enum):\n",
    "    WHITE = 1,\n",
    "    GRAY = 2,\n",
    "    BLACK = 3"
   ]
  },
  {
   "cell_type": "code",
   "execution_count": 11,
   "metadata": {},
   "outputs": [],
   "source": [
    "class Vertex:\n",
    "    def __init__(self,d=0):\n",
    "        self.d=d\n",
    "        self.f=0\n",
    "        self.parent=-1\n",
    "        self.color=COLOR.WHITE"
   ]
  },
  {
   "cell_type": "code",
   "execution_count": 15,
   "metadata": {},
   "outputs": [],
   "source": [
    "aa = [Vertex() for i in range(V)]"
   ]
  },
  {
   "cell_type": "code",
   "execution_count": 16,
   "metadata": {},
   "outputs": [
    {
     "data": {
      "text/plain": [
       "6"
      ]
     },
     "execution_count": 16,
     "metadata": {},
     "output_type": "execute_result"
    }
   ],
   "source": [
    "len(aa)"
   ]
  },
  {
   "cell_type": "code",
   "execution_count": 17,
   "metadata": {},
   "outputs": [
    {
     "data": {
      "text/plain": [
       "[<__main__.Vertex at 0x10ba03ba8>,\n",
       " <__main__.Vertex at 0x10ba03cf8>,\n",
       " <__main__.Vertex at 0x10ba03b70>,\n",
       " <__main__.Vertex at 0x10ba03d68>,\n",
       " <__main__.Vertex at 0x10ba03cc0>,\n",
       " <__main__.Vertex at 0x10ba03da0>]"
      ]
     },
     "execution_count": 17,
     "metadata": {},
     "output_type": "execute_result"
    }
   ],
   "source": [
    "aa"
   ]
  },
  {
   "cell_type": "code",
   "execution_count": 28,
   "metadata": {},
   "outputs": [],
   "source": [
    "\n",
    "\n",
    "# import copy\n",
    "# from enum import Enum\n",
    "\n",
    "# #define COLOR\n",
    "# class COLOR(Enum):\n",
    "# \tWHITE = 1,\n",
    "# \tGRAY = 2,\n",
    "# \tBLACK = 3\n",
    "\n",
    "# class edge:\n",
    "# \tdef __init__(self,from_node=0,to_node=0):\n",
    "# \t\tself.from_node = from_node\n",
    "# \t\tself.to_node = to_node\n",
    "\n",
    "# class Vertex:\n",
    "# \tdef __init__(self,d=0):\n",
    "# \t\tself.d=d\n",
    "# \t\tself.f=0\n",
    "# \t\tself.parent=-1\n",
    "# \t\tself.color=COLOR.WHITE\n",
    "\n",
    "\n",
    "# WHITE = COLOR.WHITE\n",
    "# GRAY = COLOR.GRAY\n",
    "# BLACK = COLOR.BLACK\n",
    "# #graph \n",
    "# class graph:\n",
    "# \tdef __init__(self, V = 1):\n",
    "# \t\tself.V = V # the number of the nodes in graph\n",
    "# \t\tself.nverteces_originally_connected = 0\n",
    "# \t\tself.root_vertex                    = 0\n",
    "# \t\tself.edge                           = [[] for i in range(self.V)]\n",
    "# \t\tself.time                           = 0\n",
    "# \t\tself.vertex                         = [Vertex() for i in range(V)]\n",
    "\n",
    "# \t#debug\n",
    "# \tdef print_vertex(self):\n",
    "# \t\tfor i in range(len(self.vertex)):\n",
    "# \t\t\tprint('vertex ',i,'is:',self.vertex[i].d,self.vertex[i].f,self.vertex[i].parent,self.vertex[i].color)\n",
    "\n",
    "\n",
    "# \tdef ownsvertex(self,ind):\n",
    "# \t\tif len(self.edge[ind]) > 0:\n",
    "# \t\t\treturn 1\n",
    "# \t\tfor i in range(len(self.edge)):\n",
    "# \t\t\tfor j in range(len(self.edge[i])):\n",
    "# \t\t\t\tif self.edge[i][j] == ind:\n",
    "# \t\t\t\t\treturn 1\n",
    "# \t\treturn 0\n",
    "\n",
    "# \tdef nonownedge(self,*oneedge):\n",
    "# \t\tdef nonownedge1(self,oneedge):\n",
    "# \t\t\tfor i in range(len(self.edge[oneedge.from_node])):\n",
    "# \t\t\t\tif self.edge[oneedge.from_node][i] == oneedge.to_node:\n",
    "# \t\t\t\t\treturn 0\n",
    "# \t\t\treturn 1\n",
    "# \t\tdef nonownedge2(self,from_node,to_node):\n",
    "# \t\t\tfor i in range(len(self.edge[from_node])):\n",
    "# \t\t\t\tif self.edge[from_node][i] == to_node:\n",
    "# \t\t\t\t\treturn 0\n",
    "# \t\t\treturn 1\n",
    "\n",
    "# \t\tif len(oneedge) == 1:\n",
    "# \t\t\treturn nonownedge1(self,*oneedge)\n",
    "# \t\telse:\n",
    "# \t\t\treturn nonownedge2(self,*oneedge)\n",
    "\n",
    "\n",
    "# \tdef removeedge(self,from_node,to_node):\n",
    "# \t\tif self.nonownedge(edge(from_node,to_node)):\n",
    "# \t\t\treturn 1\n",
    "# \t\telse:\n",
    "# \t\t\tself.edge[from_node].remove(to_node)\n",
    "\n",
    "\n",
    "# \tdef addedge(self,from_node,to_node):\n",
    "# \t\tif self.nonownedge(edge(from_node,to_node)) == 1:\n",
    "# \t\t\tself.edge[from_node].append(to_node)\n",
    "# \t\telse:\n",
    "# \t\t\tprint('edge from ',from_node,'to ', to_node, 'has been added')\n",
    "\n",
    "\n",
    "# \tdef graph_print(self):\n",
    "# \t\tprint(\"the graph is:\")\n",
    "# \t\tfor i in range(len(self.edge)):\n",
    "# \t\t\tprint('vertex ', i,': ' , self.edge[i])\n",
    "\n",
    "# \tdef DFS_Visit(self,u):\n",
    "# \t\tself.vertex[u].color = GRAY\n",
    "# \t\tself.time=self.time+1\n",
    "# \t\tself.vertex[u].d = self.time\n",
    "\n",
    "# \t\tfor i in range(len(self.edge[u])):\n",
    "# \t\t\tif self.vertex[ self.edge[u][i] ].color == WHITE:\n",
    "# \t\t\t\tself.vertex[ self.edge[u][i] ].parent = u\n",
    "# \t\t\t\tself.DFS_Visit(self.edge[u][i])\n",
    "\n",
    "# \t\tself.vertex[u].color = BLACK\n",
    "# \t\tself.time=self.time+1\n",
    "# \t\tself.vertex[u].f = self.time\n",
    "\n",
    "\n",
    "# \tdef getNconnectedverteces(self):\n",
    "# \t\tNconnected = 0\n",
    "# \t\ttally = [0 for i in range(self.V)]\n",
    "# \t\tfor i in range(self.V):\n",
    "# \t\t\tif len(self.edge[i])>0:\n",
    "# \t\t\t\ttally[i]=tally[i]+1\n",
    "# \t\tfor i in range(len(self.edge)):\n",
    "# \t\t\tfor j in range(len(self.edge[i])):\n",
    "# \t\t\t\ttally[self.edge[i][j]] = tally[self.edge[i][j]]+1\n",
    "# \t\tfor i in range(len(tally)):\n",
    "# \t\t\tif tally[i]>0:\n",
    "# \t\t\t\tNconnected=Nconnected+1\n",
    "# \t\treturn Nconnected\n",
    "\n",
    "\n",
    "# def GROW():\n",
    "# \tglobal V\n",
    "# \tglobal T\n",
    "# \tglobal L\n",
    "# \tglobal nspanningtrees\n",
    "# \tglobal G\n",
    "# \tglobal F\n",
    "# \tif T.getNconnectedverteces() == V:\n",
    "# \t\tL = copy.deepcopy(T)\n",
    "# \t\tnspanningtrees = nspanningtrees + 1\n",
    "# \t\tprint(\"---------spanning tree \", nspanningtrees, \"----------\\n\")\n",
    "# \t\tL.graph_print()\n",
    "# \t\tprint( \"----------------------------------\\n\")\n",
    "# \t\tL.DFS_Visit(L.root_vertex)\n",
    "# \telse:\n",
    "# \t\tFF = []\n",
    "# \t\twhile True:\n",
    "# \t\t\tif len(F)>0:\n",
    "# \t\t\t\te = F.pop(0)\n",
    "# \t\t\telse:\n",
    "# \t\t\t\tprint('F is empty')\n",
    "# \t\t\t\treturn 0\n",
    "# \t\t\tv = e.to_node\n",
    "# \t\t\tT.addedge(e.from_node,v)\n",
    "# \t\t\tFcopy = []\n",
    "# \t\t\tFcopy = copy.deepcopy(F)\n",
    "\n",
    "# \t\t\t#add edge to F\n",
    "# \t\t\tfor i in range(len(G.edge[v])):\n",
    "# \t\t\t\tw = G.edge[v][i]\n",
    "# \t\t\t\tif T.ownsvertex(w) != 1:\n",
    "# \t\t\t\t\tF.insert(0,edge(v,w))\n",
    "\t\t\t\n",
    "# \t\t\t#delete edge from F\n",
    "# \t\t\tfor iw in range(len(G.edge)):\n",
    "# \t\t\t\tatemp = T.ownsvertex(iw)\n",
    "# \t\t\t\tif T.ownsvertex(iw):\n",
    "# \t\t\t\t\tjtmp = []\n",
    "# \t\t\t\t\tfor j in range(len(G.edge[iw])):\n",
    "# \t\t\t\t\t\tif G.edge[iw][j] == v:\n",
    "# \t\t\t\t\t\t\tjtmp.append(j)\n",
    "# \t\t\t\t\tif len(jtmp)>0:\n",
    "# \t\t\t\t\t\t# F.remove(edge(iw,v))\n",
    "# \t\t\t\t\t\tiFtemp = []\n",
    "# \t\t\t\t\t\tfor iF in range(len(F)):\n",
    "# \t\t\t\t\t\t\t\tif F[iF].from_node == iw and F[iF].to_node == v:\n",
    "# \t\t\t\t\t\t\t\t\tiFtemp.append(iF)\n",
    "# \t\t\t\t\t\tif len(iFtemp)>0:\n",
    "# \t\t\t\t\t\t\tfor df in range(len(iFtemp)-1,-1,-1):\n",
    "# \t\t\t\t\t\t\t\tF.pop(iFtemp[df])\n",
    "\t\t\t\t\t\t\t\t \n",
    "\n",
    "# \t\t\tGROW()\n",
    "# \t\t\tF = copy.deepcopy(Fcopy)\n",
    "# \t\t\tT.removeedge(e.from_node, e.to_node)\n",
    "# \t\t\tG.removeedge(e.from_node, e.to_node)\n",
    "# \t\t\tFF.insert(0,e)\n",
    "\n",
    "# \t\t\t#bridge test\n",
    "# \t\t\tb = 1\n",
    "# \t\t\tfor w in range(len(G.edge)):\n",
    "# \t\t\t\ttempjj = -1\n",
    "# \t\t\t\tfor jj in range(len(G.edge[w])):\n",
    "# \t\t\t\t\tif G.edge[w][jj] == v:\n",
    "# \t\t\t\t\t\ttempjj = jj\n",
    "# \t\t\t\tif tempjj != -1:\n",
    "# \t\t\t\t\tif ((L.vertex[v].d < L.vertex[w].d) and (L.vertex[w].d < L.vertex[w].f) and (L.vertex[w].f < L.vertex[v].f))==0:\n",
    "# \t\t\t\t\t\t\tb = 0\n",
    "# \t\t\t\t\t\t\tbreak\n",
    "# \t\t\tif b == 1:\n",
    "# \t\t\t\tbreak\n",
    "\n",
    "# \t\twhile len(FF)> 0:\n",
    "# \t\t\te1 = FF.pop(0)\n",
    "# \t\t\tF.insert(0,e1)\n",
    "# \t\t\tG.addedge(e1.from_node,e1.to_node)\n",
    "\n",
    "\n",
    "# V = 4\n",
    "# T = graph(V)\n",
    "# L = graph(V)\n",
    "# T.root_vertex = 0\n",
    "# L.root_vertex = 0\n",
    "# nspanningtrees = 0\n",
    "# F=[]\n",
    "\n",
    "# #initial graph G\n",
    "# G = graph(V)\n",
    "# G.root_vertex = 0;\n",
    "# G.addedge(0,2)\n",
    "# G.addedge(0,1)\n",
    "# G.addedge(1,3)\n",
    "# G.addedge(3,2)\n",
    "# G.addedge(1,2)\n",
    "# G.addedge(2,1)\n",
    "# G.graph_print()\n",
    "# for i in range(len(G.edge[G.root_vertex])):\n",
    "# \tF.insert(0,edge(G.root_vertex,G.edge[G.root_vertex][i]))\n",
    "\n",
    "# GROW()\n",
    "\n",
    "\n"
   ]
  },
  {
   "cell_type": "code",
   "execution_count": null,
   "metadata": {},
   "outputs": [],
   "source": []
  }
 ],
 "metadata": {
  "kernelspec": {
   "display_name": "Python 3",
   "language": "python",
   "name": "python3"
  },
  "language_info": {
   "codemirror_mode": {
    "name": "ipython",
    "version": 3
   },
   "file_extension": ".py",
   "mimetype": "text/x-python",
   "name": "python",
   "nbconvert_exporter": "python",
   "pygments_lexer": "ipython3",
   "version": "3.6.5"
  }
 },
 "nbformat": 4,
 "nbformat_minor": 2
}
