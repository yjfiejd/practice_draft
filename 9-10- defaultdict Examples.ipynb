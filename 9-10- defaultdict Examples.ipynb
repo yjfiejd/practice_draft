{
 "cells": [
  {
   "cell_type": "code",
   "execution_count": 1,
   "metadata": {},
   "outputs": [],
   "source": [
    "from collections import defaultdict\n",
    "a = defaultdict(list)\n",
    "b = defaultdict(set)\n",
    "c = defaultdict(list)\n"
   ]
  },
  {
   "cell_type": "code",
   "execution_count": 2,
   "metadata": {},
   "outputs": [
    {
     "data": {
      "text/plain": [
       "defaultdict(list, {})"
      ]
     },
     "execution_count": 2,
     "metadata": {},
     "output_type": "execute_result"
    }
   ],
   "source": [
    "a"
   ]
  },
  {
   "cell_type": "code",
   "execution_count": 3,
   "metadata": {},
   "outputs": [
    {
     "data": {
      "text/plain": [
       "defaultdict(set, {})"
      ]
     },
     "execution_count": 3,
     "metadata": {},
     "output_type": "execute_result"
    }
   ],
   "source": [
    "b"
   ]
  },
  {
   "cell_type": "code",
   "execution_count": 4,
   "metadata": {},
   "outputs": [],
   "source": [
    "s = [('red', 1), ('blue', 2), ('red', 3), ('blue', 4), ('red', 1), ('blue', 4)]\n"
   ]
  },
  {
   "cell_type": "code",
   "execution_count": 5,
   "metadata": {},
   "outputs": [],
   "source": [
    "for k, v in s:\n",
    "    a[k].append(v)\n"
   ]
  },
  {
   "cell_type": "code",
   "execution_count": 6,
   "metadata": {},
   "outputs": [
    {
     "data": {
      "text/plain": [
       "<function defaultdict.items>"
      ]
     },
     "execution_count": 6,
     "metadata": {},
     "output_type": "execute_result"
    }
   ],
   "source": [
    "a.items"
   ]
  },
  {
   "cell_type": "code",
   "execution_count": 7,
   "metadata": {},
   "outputs": [
    {
     "data": {
      "text/plain": [
       "dict_items([('red', [1, 3, 1]), ('blue', [2, 4, 4])])"
      ]
     },
     "execution_count": 7,
     "metadata": {},
     "output_type": "execute_result"
    }
   ],
   "source": [
    "a.items()"
   ]
  },
  {
   "cell_type": "code",
   "execution_count": 8,
   "metadata": {},
   "outputs": [],
   "source": [
    "for k, v in s:\n",
    "    b[k].add(v)"
   ]
  },
  {
   "cell_type": "code",
   "execution_count": 9,
   "metadata": {},
   "outputs": [
    {
     "data": {
      "text/plain": [
       "dict_items([('red', {1, 3}), ('blue', {2, 4})])"
      ]
     },
     "execution_count": 9,
     "metadata": {},
     "output_type": "execute_result"
    }
   ],
   "source": [
    "b.items()"
   ]
  },
  {
   "cell_type": "code",
   "execution_count": 10,
   "metadata": {},
   "outputs": [
    {
     "data": {
      "text/plain": [
       "[(126, 27),\n",
       " (32, 129),\n",
       " (193, 152),\n",
       " (110, 5),\n",
       " (73, 72),\n",
       " (195, 161),\n",
       " (183, 182),\n",
       " (34, 35),\n",
       " (126, 121),\n",
       " (195, 78),\n",
       " (166, 165),\n",
       " (44, 45),\n",
       " (110, 6),\n",
       " (151, 192),\n",
       " (195, 194),\n",
       " (191, 51),\n",
       " (174, 173),\n",
       " (169, 170),\n",
       " (151, 148),\n",
       " (57, 59),\n",
       " (193, 60),\n",
       " (155, 66),\n",
       " (166, 163),\n",
       " (195, 159),\n",
       " (176, 175),\n",
       " (184, 183),\n",
       " (189, 186),\n",
       " (169, 89),\n",
       " (122, 25),\n",
       " (191, 144),\n",
       " (126, 125),\n",
       " (137, 132),\n",
       " (8, 111),\n",
       " (110, 10),\n",
       " (58, 59),\n",
       " (140, 138),\n",
       " (118, 117),\n",
       " (137, 135),\n",
       " (132, 189),\n",
       " (5, 4),\n",
       " (45, 47),\n",
       " (73, 74),\n",
       " (166, 84),\n",
       " (41, 139),\n",
       " (143, 41),\n",
       " (75, 76),\n",
       " (121, 119),\n",
       " (17, 115),\n",
       " (89, 88),\n",
       " (196, 176),\n",
       " (181, 101),\n",
       " (132, 131),\n",
       " (61, 62),\n",
       " (137, 136),\n",
       " (78, 77),\n",
       " (79, 157),\n",
       " (46, 47),\n",
       " (44, 48),\n",
       " (137, 37),\n",
       " (116, 18),\n",
       " (175, 174),\n",
       " (113, 14),\n",
       " (159, 158),\n",
       " (132, 128),\n",
       " (115, 114),\n",
       " (37, 134),\n",
       " (71, 70),\n",
       " (121, 120),\n",
       " (189, 127),\n",
       " (71, 185),\n",
       " (132, 34),\n",
       " (169, 167),\n",
       " (109, 1),\n",
       " (131, 130),\n",
       " (72, 75),\n",
       " (18, 17),\n",
       " (143, 142),\n",
       " (193, 64),\n",
       " (161, 162),\n",
       " (193, 153),\n",
       " (166, 85),\n",
       " (188, 187),\n",
       " (121, 118),\n",
       " (113, 110),\n",
       " (195, 79),\n",
       " (166, 164),\n",
       " (143, 141),\n",
       " (10, 11),\n",
       " (27, 123),\n",
       " (184, 104),\n",
       " (151, 150),\n",
       " (169, 168),\n",
       " (13, 112),\n",
       " (181, 100),\n",
       " (60, 56),\n",
       " (109, 108),\n",
       " (139, 138),\n",
       " (173, 172),\n",
       " (181, 180),\n",
       " (151, 54),\n",
       " (56, 57),\n",
       " (79, 156),\n",
       " (113, 13),\n",
       " (155, 67),\n",
       " (150, 149),\n",
       " (60, 61),\n",
       " (84, 83),\n",
       " (180, 179),\n",
       " (110, 8),\n",
       " (48, 49),\n",
       " (191, 145),\n",
       " (191, 44),\n",
       " (126, 124),\n",
       " (121, 122),\n",
       " (132, 32)]"
      ]
     },
     "execution_count": 10,
     "metadata": {},
     "output_type": "execute_result"
    }
   ],
   "source": [
    "new_str = {(126, 27), (32, 129), (193, 152), (110, 5), (73, 72), (195, 161), (183, 182), (34, 35), (126, 121), (166, 165), (195, 78), (44, 45), (110, 6), (151, 192), (195, 194), (191, 51), (174, 173), (169, 170), (151, 148), (57, 59), (193, 60), (155, 66), (166, 163), (195, 159), (176, 175), (184, 183), (189, 186), (169, 89), (122, 25), (191, 144), (126, 125), (137, 132), (8, 111), (110, 10), (58, 59), (140, 138), (118, 117), (137, 135), (132, 189), (5, 4), (45, 47), (73, 74), (166, 84), (41, 139), (143, 41), (75, 76), (121, 119), (17, 115), (89, 88), (196, 176), (181, 101), (132, 131), (61, 62), (137, 136), (78, 77), (79, 157), (46, 47), (44, 48), (137, 37), (116, 18), (175, 174), (113, 14), (159, 158), (132, 128), (115, 114), (37, 134), (71, 70), (121, 120), (189, 127), (71, 185), (132, 34), (169, 167), (109, 1), (131, 130), (72, 75), (18, 17), (143, 142), (193, 64), (161, 162), (193, 153), (166, 85), (188, 187), (121, 118), (113, 110), (195, 79), (166, 164), (143, 141), (10, 11), (27, 123), (184, 104), (151, 150), (169, 168), (13, 112), (181, 100), (60, 56), (109, 108), (139, 138), (173, 172), (181, 180), (151, 54), (56, 57), (79, 156), (113, 13), (155, 67), (150, 149), (60, 61), (84, 83), (180, 179), (110, 8), (48, 49), (191, 145), (191, 44), (126, 124), (121, 122), (132, 32)}\n",
    "\n",
    "new_str_list = list(new_str)\n",
    "new_str_list"
   ]
  },
  {
   "cell_type": "code",
   "execution_count": 11,
   "metadata": {},
   "outputs": [],
   "source": [
    "for k, v in new_str_list:\n",
    "    c[k].append(v)\n"
   ]
  },
  {
   "cell_type": "code",
   "execution_count": 12,
   "metadata": {
    "scrolled": true
   },
   "outputs": [
    {
     "data": {
      "text/plain": [
       "defaultdict(list,\n",
       "            {126: [27, 121, 125, 124],\n",
       "             32: [129],\n",
       "             193: [152, 60, 64, 153],\n",
       "             110: [5, 6, 10, 8],\n",
       "             73: [72, 74],\n",
       "             195: [161, 78, 194, 159, 79],\n",
       "             183: [182],\n",
       "             34: [35],\n",
       "             166: [165, 163, 84, 85, 164],\n",
       "             44: [45, 48],\n",
       "             151: [192, 148, 150, 54],\n",
       "             191: [51, 144, 145, 44],\n",
       "             174: [173],\n",
       "             169: [170, 89, 167, 168],\n",
       "             57: [59],\n",
       "             155: [66, 67],\n",
       "             176: [175],\n",
       "             184: [183, 104],\n",
       "             189: [186, 127],\n",
       "             122: [25],\n",
       "             137: [132, 135, 136, 37],\n",
       "             8: [111],\n",
       "             58: [59],\n",
       "             140: [138],\n",
       "             118: [117],\n",
       "             132: [189, 131, 128, 34, 32],\n",
       "             5: [4],\n",
       "             45: [47],\n",
       "             41: [139],\n",
       "             143: [41, 142, 141],\n",
       "             75: [76],\n",
       "             121: [119, 120, 118, 122],\n",
       "             17: [115],\n",
       "             89: [88],\n",
       "             196: [176],\n",
       "             181: [101, 100, 180],\n",
       "             61: [62],\n",
       "             78: [77],\n",
       "             79: [157, 156],\n",
       "             46: [47],\n",
       "             116: [18],\n",
       "             175: [174],\n",
       "             113: [14, 110, 13],\n",
       "             159: [158],\n",
       "             115: [114],\n",
       "             37: [134],\n",
       "             71: [70, 185],\n",
       "             109: [1, 108],\n",
       "             131: [130],\n",
       "             72: [75],\n",
       "             18: [17],\n",
       "             161: [162],\n",
       "             188: [187],\n",
       "             10: [11],\n",
       "             27: [123],\n",
       "             13: [112],\n",
       "             60: [56, 61],\n",
       "             139: [138],\n",
       "             173: [172],\n",
       "             56: [57],\n",
       "             150: [149],\n",
       "             84: [83],\n",
       "             180: [179],\n",
       "             48: [49]})"
      ]
     },
     "execution_count": 12,
     "metadata": {},
     "output_type": "execute_result"
    }
   ],
   "source": [
    "c"
   ]
  },
  {
   "cell_type": "code",
   "execution_count": 13,
   "metadata": {},
   "outputs": [
    {
     "data": {
      "text/plain": [
       "dict_keys([126, 32, 193, 110, 73, 195, 183, 34, 166, 44, 151, 191, 174, 169, 57, 155, 176, 184, 189, 122, 137, 8, 58, 140, 118, 132, 5, 45, 41, 143, 75, 121, 17, 89, 196, 181, 61, 78, 79, 46, 116, 175, 113, 159, 115, 37, 71, 109, 131, 72, 18, 161, 188, 10, 27, 13, 60, 139, 173, 56, 150, 84, 180, 48])"
      ]
     },
     "execution_count": 13,
     "metadata": {},
     "output_type": "execute_result"
    }
   ],
   "source": [
    "c.keys()"
   ]
  },
  {
   "cell_type": "code",
   "execution_count": 14,
   "metadata": {},
   "outputs": [
    {
     "data": {
      "text/plain": [
       "64"
      ]
     },
     "execution_count": 14,
     "metadata": {},
     "output_type": "execute_result"
    }
   ],
   "source": [
    "len(c.keys())"
   ]
  },
  {
   "cell_type": "code",
   "execution_count": 15,
   "metadata": {},
   "outputs": [],
   "source": [
    "# DFS(c, 193)"
   ]
  },
  {
   "cell_type": "code",
   "execution_count": 16,
   "metadata": {},
   "outputs": [],
   "source": [
    "# DFS(c, 121)"
   ]
  },
  {
   "cell_type": "code",
   "execution_count": 17,
   "metadata": {},
   "outputs": [],
   "source": [
    "# def DFS(graph, s):\n",
    "#     stack = []\n",
    "#     node_seq = []\n",
    "#     seen = set()\n",
    "#     stack.append(s)\n",
    "#     seen.add(s)\n",
    "\n",
    "#     while (len(stack) > 0):\n",
    "#         vertex = stack.pop()\n",
    "#         node_seq.append(vertex)\n",
    "#         nodes = graph[vertex]\n",
    "#         for w in nodes:\n",
    "#             if w not in seen:\n",
    "#                 stack.append(w)\n",
    "#                 seen.add(w)\n",
    "#     #         print(vertex)\n",
    "#     return node_seq\n",
    "\n",
    "\n",
    "# # 5）深度遍历所有的节点，找到他们的路径\n",
    "# def DFS_all_nodes(graph):\n",
    "#     total_seq = []\n",
    "#     for node in graph:\n",
    "#         total_seq.append(DFS(graph, node))\n",
    "#     return total_seq\n"
   ]
  },
  {
   "cell_type": "code",
   "execution_count": 18,
   "metadata": {
    "scrolled": false
   },
   "outputs": [],
   "source": [
    "# result_one = DFS_all_nodes(c)"
   ]
  },
  {
   "cell_type": "code",
   "execution_count": null,
   "metadata": {},
   "outputs": [],
   "source": []
  },
  {
   "cell_type": "code",
   "execution_count": 19,
   "metadata": {},
   "outputs": [],
   "source": [
    "dict_test = {('D', 'F'), ('A', 'D'), ('C', 'E'), ('B', 'E'), ('E', 'G'), ('A', 'B')}\n",
    "d = defaultdict(list)"
   ]
  },
  {
   "cell_type": "code",
   "execution_count": 20,
   "metadata": {},
   "outputs": [],
   "source": [
    "for k, v in dict_test:\n",
    "    d[k]"
   ]
  },
  {
   "cell_type": "code",
   "execution_count": 21,
   "metadata": {},
   "outputs": [
    {
     "data": {
      "text/plain": [
       "dict_keys(['D', 'A', 'C', 'B', 'E'])"
      ]
     },
     "execution_count": 21,
     "metadata": {},
     "output_type": "execute_result"
    }
   ],
   "source": [
    "d.keys()"
   ]
  },
  {
   "cell_type": "code",
   "execution_count": 22,
   "metadata": {},
   "outputs": [],
   "source": [
    "dict_test_02 = {(126, 27), (32, 129), (193, 152), (110, 5), (73, 72), (195, 161), (183, 182), (34, 35), (126, 121), (166, 165), (195, 78), (44, 45), (110, 6), (151, 192), (195, 194), (191, 51), (174, 173), (169, 170), (151, 148), (57, 59), (193, 60), (155, 66), (166, 163), (195, 159), (176, 175), (184, 183), (189, 186), (169, 89), (122, 25), (191, 144), (126, 125), (137, 132), (8, 111), (110, 10), (58, 59), (140, 138), (118, 117), (137, 135), (132, 189), (5, 4), (45, 47), (73, 74), (166, 84), (41, 139), (143, 41), (75, 76), (121, 119), (17, 115), (89, 88), (196, 176), (181, 101), (132, 131), (61, 62), (137, 136), (78, 77), (79, 157), (46, 47), (44, 48), (137, 37), (116, 18), (175, 174), (113, 14), (159, 158), (132, 128), (115, 114), (37, 134), (71, 70), (121, 120), (189, 127), (71, 185), (132, 34), (169, 167), (109, 1), (131, 130), (72, 75), (18, 17), (143, 142), (193, 64), (161, 162), (193, 153), (166, 85), (188, 187), (121, 118), (113, 110), (195, 79), (166, 164), (143, 141), (10, 11), (27, 123), (184, 104), (151, 150), (169, 168), (13, 112), (181, 100), (60, 56), (109, 108), (139, 138), (173, 172), (181, 180), (151, 54), (56, 57), (79, 156), (113, 13), (155, 67), (150, 149), (60, 61), (84, 83), (180, 179), (110, 8), (48, 49), (191, 145), (191, 44), (126, 124), (121, 122), (132, 32)}\n",
    "e = defaultdict(list)"
   ]
  },
  {
   "cell_type": "code",
   "execution_count": 23,
   "metadata": {},
   "outputs": [],
   "source": [
    "for k, v in dict_test_02:\n",
    "    e[k]"
   ]
  },
  {
   "cell_type": "code",
   "execution_count": 24,
   "metadata": {},
   "outputs": [
    {
     "data": {
      "text/plain": [
       "dict_keys([126, 32, 193, 110, 73, 195, 183, 34, 166, 44, 151, 191, 174, 169, 57, 155, 176, 184, 189, 122, 137, 8, 58, 140, 118, 132, 5, 45, 41, 143, 75, 121, 17, 89, 196, 181, 61, 78, 79, 46, 116, 175, 113, 159, 115, 37, 71, 109, 131, 72, 18, 161, 188, 10, 27, 13, 60, 139, 173, 56, 150, 84, 180, 48])"
      ]
     },
     "execution_count": 24,
     "metadata": {},
     "output_type": "execute_result"
    }
   ],
   "source": [
    "e.keys()"
   ]
  },
  {
   "cell_type": "code",
   "execution_count": 25,
   "metadata": {},
   "outputs": [
    {
     "data": {
      "text/plain": [
       "64"
      ]
     },
     "execution_count": 25,
     "metadata": {},
     "output_type": "execute_result"
    }
   ],
   "source": [
    "len(e.keys())"
   ]
  },
  {
   "cell_type": "code",
   "execution_count": 1,
   "metadata": {},
   "outputs": [],
   "source": [
    "# 打印图试一试\n",
    "graph2 = {\n",
    "    0:{1, 2},\n",
    "    1:{3, 2},\n",
    "    2:{1},\n",
    "    3:{2}\n",
    "}"
   ]
  },
  {
   "cell_type": "code",
   "execution_count": 2,
   "metadata": {},
   "outputs": [
    {
     "data": {
      "text/plain": [
       "[0, 0, 0, 0]"
      ]
     },
     "execution_count": 2,
     "metadata": {},
     "output_type": "execute_result"
    }
   ],
   "source": [
    "V = 4 # 个数为4个\n",
    "a = [0 for i in range(V)]\n",
    "a #结果也是4个"
   ]
  },
  {
   "cell_type": "code",
   "execution_count": 3,
   "metadata": {},
   "outputs": [
    {
     "data": {
      "text/plain": [
       "0"
      ]
     },
     "execution_count": 3,
     "metadata": {},
     "output_type": "execute_result"
    }
   ],
   "source": [
    "a[1]"
   ]
  },
  {
   "cell_type": "code",
   "execution_count": 4,
   "metadata": {},
   "outputs": [
    {
     "data": {
      "text/plain": [
       "0"
      ]
     },
     "execution_count": 4,
     "metadata": {},
     "output_type": "execute_result"
    }
   ],
   "source": [
    "a[3]"
   ]
  },
  {
   "cell_type": "code",
   "execution_count": 5,
   "metadata": {},
   "outputs": [
    {
     "ename": "IndexError",
     "evalue": "list index out of range",
     "output_type": "error",
     "traceback": [
      "\u001b[0;31m---------------------------------------------------------------------------\u001b[0m",
      "\u001b[0;31mIndexError\u001b[0m                                Traceback (most recent call last)",
      "\u001b[0;32m<ipython-input-5-ed40d1f49c42>\u001b[0m in \u001b[0;36m<module>\u001b[0;34m()\u001b[0m\n\u001b[0;32m----> 1\u001b[0;31m \u001b[0ma\u001b[0m\u001b[0;34m[\u001b[0m\u001b[0;36m4\u001b[0m\u001b[0;34m]\u001b[0m\u001b[0;34m\u001b[0m\u001b[0m\n\u001b[0m",
      "\u001b[0;31mIndexError\u001b[0m: list index out of range"
     ]
    }
   ],
   "source": [
    "a[4]"
   ]
  },
  {
   "cell_type": "code",
   "execution_count": null,
   "metadata": {},
   "outputs": [],
   "source": []
  }
 ],
 "metadata": {
  "kernelspec": {
   "display_name": "Python 3",
   "language": "python",
   "name": "python3"
  },
  "language_info": {
   "codemirror_mode": {
    "name": "ipython",
    "version": 3
   },
   "file_extension": ".py",
   "mimetype": "text/x-python",
   "name": "python",
   "nbconvert_exporter": "python",
   "pygments_lexer": "ipython3",
   "version": "3.6.5"
  }
 },
 "nbformat": 4,
 "nbformat_minor": 2
}
