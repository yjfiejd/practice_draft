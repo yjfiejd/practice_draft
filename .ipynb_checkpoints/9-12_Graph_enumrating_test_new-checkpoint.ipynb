{
 "cells": [
  {
   "cell_type": "code",
   "execution_count": 1,
   "metadata": {},
   "outputs": [],
   "source": [
    "graph2 = {\n",
    "    0:{1, 2},\n",
    "    1:{3, 2},\n",
    "    2:{1},\n",
    "    3:{2}\n",
    "}"
   ]
  },
  {
   "cell_type": "code",
   "execution_count": 2,
   "metadata": {},
   "outputs": [],
   "source": [
    "import copy \n",
    "from enum import Enum\n",
    "\n",
    "class COLOR(Enum):\n",
    "    WHITE = 1,  # 初始化所有的节点都为白色\n",
    "    GRAY = 2, \n",
    "    BLACK = 3"
   ]
  },
  {
   "cell_type": "code",
   "execution_count": 3,
   "metadata": {},
   "outputs": [],
   "source": [
    "# 定义边\n",
    "class edge:\n",
    "    def __init__(self, from_node = 0, to_node = 0):\n",
    "        self.from_node = from_node\n",
    "        self.to_node = to_node"
   ]
  },
  {
   "cell_type": "code",
   "execution_count": null,
   "metadata": {},
   "outputs": [],
   "source": []
  },
  {
   "cell_type": "code",
   "execution_count": 4,
   "metadata": {},
   "outputs": [],
   "source": [
    "# 定义节点\n",
    "class Vertex:\n",
    "    def __init__(self, d = 0): # 节点个数初始化为0\n",
    "        self.d = d #节点的个数\n",
    "        self.f = 0 # 这里的f意思不确定\n",
    "        self.parent = -1 #所有节点的父为-1\n",
    "        self.color = COLOR.WHITE # 节点初始化为WHITE"
   ]
  },
  {
   "cell_type": "code",
   "execution_count": 12,
   "metadata": {},
   "outputs": [
    {
     "data": {
      "text/plain": [
       "[<__main__.Vertex at 0x107a09cf8>,\n",
       " <__main__.Vertex at 0x107a09d30>,\n",
       " <__main__.Vertex at 0x107a09d68>,\n",
       " <__main__.Vertex at 0x107a09dd8>]"
      ]
     },
     "execution_count": 12,
     "metadata": {},
     "output_type": "execute_result"
    }
   ],
   "source": [
    "vertex  = [Vertex() for i in range(4)]\n",
    "vertex"
   ]
  },
  {
   "cell_type": "code",
   "execution_count": 15,
   "metadata": {},
   "outputs": [
    {
     "data": {
      "text/plain": [
       "[[], [], [], []]"
      ]
     },
     "execution_count": 15,
     "metadata": {},
     "output_type": "execute_result"
    }
   ],
   "source": [
    "edge = [[] for i in range(4)]\n",
    "edge"
   ]
  },
  {
   "cell_type": "code",
   "execution_count": 16,
   "metadata": {},
   "outputs": [
    {
     "data": {
      "text/plain": [
       "0"
      ]
     },
     "execution_count": 16,
     "metadata": {},
     "output_type": "execute_result"
    }
   ],
   "source": [
    "len(edge[2])"
   ]
  },
  {
   "cell_type": "code",
   "execution_count": 13,
   "metadata": {},
   "outputs": [
    {
     "data": {
      "text/plain": [
       "<__main__.Vertex at 0x107a09cf8>"
      ]
     },
     "execution_count": 13,
     "metadata": {},
     "output_type": "execute_result"
    }
   ],
   "source": [
    "vertex[0]"
   ]
  },
  {
   "cell_type": "code",
   "execution_count": 14,
   "metadata": {},
   "outputs": [
    {
     "data": {
      "text/plain": [
       "4"
      ]
     },
     "execution_count": 14,
     "metadata": {},
     "output_type": "execute_result"
    }
   ],
   "source": [
    "len(vertex)"
   ]
  },
  {
   "cell_type": "code",
   "execution_count": 7,
   "metadata": {},
   "outputs": [],
   "source": [
    "# 初始化常量\n",
    "WHITE = COLOR.WHITE\n",
    "GRAY = COLOR.GRAY\n",
    "BLACK = COLOR.BLACK\n"
   ]
  },
  {
   "cell_type": "code",
   "execution_count": 23,
   "metadata": {},
   "outputs": [],
   "source": [
    "#定义图\n",
    "class graph():\n",
    "    #初始化\n",
    "    def __init__(self, V = 1):\n",
    "        self.V = V #图一共有几个节点,初始化V=1\n",
    "        self.root_vertex = 0 #初始的根节点设置为0\n",
    "        self.edge = [[] for i in range(self.V)] #创建了节点数个空的列表\n",
    "        self.time = 0 # 初始化次数 self.time = 0\n",
    "        self.vertex = [Vertex() for i in range(V)] #初始化了节点个数的节点对象（d,f,parent,color）的列表\n",
    "        \n",
    "    # 打印所有的节点信息\n",
    "    def print_vertex(self):\n",
    "        for i in range(len(self.vertex)):\n",
    "            print('vertex ', i, 'is:', self.vertex[i].d, self.vertex[i].f, self.vertex[i].parent, self.vertex[i].color)\n",
    "            \n",
    "    # 判断某个节点是否存在，在初始化edge的集合中, 该函数如果存在返回1，不存在返回0\n",
    "    def ownsvertex(self, ind):\n",
    "        if len(self.edge[ind]) > 0: #判断这个节点是不是头结点，如有长度，则存在，返回1\n",
    "            return 1\n",
    "        for i in range(len(self.edge)): # 如果这个节点不是头结点，看它是否在边里面出现，遍历所有的边上的每个节点，如果存在则返回1\n",
    "            for j in range(len(self.edge[i])):\n",
    "                if self.edge[i][j] == ind:\n",
    "                    return 1\n",
    "        return 0 # 否则这个节点不存在\n",
    "    \n",
    "    # 判断某个节点是否不存在，该函数如果不存在返回1，存在返回0\n",
    "    def nonownedge(self, *oneedge):\n",
    "        def nonownedge1(self, oneedge): #一条边的形式给，先找到边的起点在哪，然后比对边的终点\n",
    "            for i in range(len(self.edge[oneedge.from_node])): #对比次数为，找到这个边起点的，那一串\n",
    "                if self.edge[oneedge.from_node][i] == oneedge.to_node: #如果原有边集合的[起点][终点] == oneedge.to_node, 找到\n",
    "                    return 0\n",
    "            return 1 # 否则返回1, 表示未找到\n",
    "        \n",
    "        def nonownedge2(self, from_node, to_node): # 直接给你，边的起点终点，寻找是否存在\n",
    "            for i in range(len(self.edge[from_node])): # 系统中找到那一行\n",
    "                if self.edge[from_node][i] == to_node:\n",
    "                    return 0\n",
    "            return 1\n",
    "        \n",
    "        #  根据传入的模型，看用哪一个def函数\n",
    "        if len(oneedge) == 1:\n",
    "            return nonownedge1(self, *oneedge)\n",
    "        else:\n",
    "            return nonownedge2(self, *oneedge)\n",
    "        \n",
    "    # 移除边\n",
    "    def removeedge(self, from_node, to_node):\n",
    "        if self.nonownedge(edge(from_node, to_node)): #如果不存在边函数判定为True，则这条边没有，不需要移除，返回1\n",
    "            return 1\n",
    "        else: # 否则把这条边删除\n",
    "            self.edge[from_node].remove(to_node) # 删除边的操作\n",
    "    \n",
    "    # 添加边\n",
    "    def addedge(self, from_node, to_node):\n",
    "            if self.nonownedge(edge(from_node, to_node)) == 1: # 如果不存在边判定为True，返回1，条件成立，则可以添加边\n",
    "                self.edge[from_node].append(to_node)\n",
    "            else: # 否则，打印，这条边存在\n",
    "                print(\"edge from {} to {} has been added\".format(from_node, to_node))\n",
    "            \n",
    "    # 把图打印出来\n",
    "    def graph_print(self):\n",
    "        print(\"The graph is:\")\n",
    "        for i in range(len(self.edge)):\n",
    "            print(\"vertex:{}, edge:{}\".format(i, self.edge[i])) # 把节点与对应的边加入\n",
    "    \n",
    "    # 进行DFS遍历：传入图，与某个节点\n",
    "    def DFS_Visit(self, u):\n",
    "        self.vertex[u].color = GRAY #这个DFS遍历的头结点设置为灰色\n",
    "        self.time = self.time + 1 #记录次数,self.time = 0\n",
    "        self.vertex[u].d = self.time # 这个节点数字为1\n",
    "        \n",
    "        for i in range(len(self.edge[u])):# 找到这个节点，与之相连的那些边\n",
    "            if self.vertex[self.edge[u][i]].color == WHITE: # 所有节点初始化为白色, 一直往上找父节点，直到找到灰色的结束\n",
    "                self.vertex[self.edge[u][i]].parent = u\n",
    "                self.DFS_Visit(self.edge[u][i])\n",
    "        \n",
    "        self.vertex[u].color = BLACK # 找到这个头结点后，把灰色改为黑色\n",
    "        self.time = self.time + 1 # 这时候为2\n",
    "        self.vertex[u].f = self.time # 把2给节点的f参数\n",
    "        \n",
    "    # 有几个节点连接\n",
    "    def getNconnectedverteces(self):\n",
    "        Nconnected = 0\n",
    "        tally = [0 for i in range(self.V)] # 计数器，创建一个列表，数量等于节点个数\n",
    "        for i in range(self.V): # 先看头部节点有几个相连\n",
    "            if len(self.edge[i]) > 0: #以某个节点为头结点，看下与它相连的列表长度,如果大于0，如果都有值，所以V个节点都是互相有连接的\n",
    "                tally[i] = tally[i] + 1 \n",
    "        for i in range(len(self.edge)): # 进入与头部节点相连的相连节点\n",
    "            for j in range(len(self.edge[i])):\n",
    "                tally[self.edge[i][j]] = tally[self.edge[i][j]] + 1\n",
    "        \n",
    "                \n",
    "                \n",
    "        \n",
    "    \n",
    "                \n",
    "            \n",
    "        \n",
    "        \n",
    "        \n",
    "                \n",
    "                \n",
    "    \n",
    "    "
   ]
  },
  {
   "cell_type": "code",
   "execution_count": 10,
   "metadata": {},
   "outputs": [],
   "source": [
    "# V = 4\n",
    "# G = graph(V)\n",
    "# G.addedge(0, 2)\n",
    "# G.addedge(0, 1)\n",
    "# G.addedge(1, 3)\n",
    "# G.addedge(3, 2)\n",
    "# G.addedge(1, 2)\n",
    "# G.addedge(2, 1)\n",
    "# G.graph_print()"
   ]
  },
  {
   "cell_type": "code",
   "execution_count": null,
   "metadata": {},
   "outputs": [],
   "source": []
  }
 ],
 "metadata": {
  "kernelspec": {
   "display_name": "Python 3",
   "language": "python",
   "name": "python3"
  },
  "language_info": {
   "codemirror_mode": {
    "name": "ipython",
    "version": 3
   },
   "file_extension": ".py",
   "mimetype": "text/x-python",
   "name": "python",
   "nbconvert_exporter": "python",
   "pygments_lexer": "ipython3",
   "version": "3.6.5"
  }
 },
 "nbformat": 4,
 "nbformat_minor": 2
}
