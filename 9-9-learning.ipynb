{
 "cells": [
  {
   "cell_type": "code",
   "execution_count": 1,
   "metadata": {},
   "outputs": [],
   "source": [
    "graph = {\n",
    "    \"A\": {\"B\": 5, \"C\": 1},\n",
    "    \"B\": {\"A\": 5, \"C\": 2, \"D\": 1},\n",
    "    \"C\": {\"A\": 1, \"B\": 2, \"D\": 4, \"E\": 8},\n",
    "    \"D\": {\"B\": 1, \"C\": 4, \"E\": 3, \"F\": 6},\n",
    "    \"E\": {\"C\": 8, \"D\": 3},\n",
    "    \"F\": {\"D\": 6}\n",
    "}"
   ]
  },
  {
   "cell_type": "code",
   "execution_count": 2,
   "metadata": {},
   "outputs": [
    {
     "name": "stdout",
     "output_type": "stream",
     "text": [
      "5\n",
      "1\n",
      "5\n",
      "2\n",
      "1\n",
      "1\n",
      "2\n",
      "4\n",
      "8\n",
      "1\n",
      "4\n",
      "3\n",
      "6\n",
      "8\n",
      "3\n",
      "6\n"
     ]
    }
   ],
   "source": [
    "for node in graph:\n",
    "    for i in graph[node]:\n",
    "        print(graph[node][i])"
   ]
  },
  {
   "cell_type": "code",
   "execution_count": null,
   "metadata": {},
   "outputs": [],
   "source": []
  },
  {
   "cell_type": "code",
   "execution_count": 3,
   "metadata": {},
   "outputs": [],
   "source": [
    "graph = {\n",
    "    'vertices': ['A', 'B', 'C', 'D', 'E', 'F'],\n",
    "    'edges': set([\n",
    "        (1, 'A', 'B'),\n",
    "        (5, 'A', 'C'),\n",
    "        (3, 'A', 'D'),\n",
    "        (4, 'B', 'C'),\n",
    "        (2, 'B', 'D'),\n",
    "        (1, 'C', 'D'),\n",
    "        ])\n",
    "    }"
   ]
  },
  {
   "cell_type": "code",
   "execution_count": 4,
   "metadata": {},
   "outputs": [
    {
     "data": {
      "text/plain": [
       "[(5, 'A', 'C'),\n",
       " (1, 'A', 'B'),\n",
       " (2, 'B', 'D'),\n",
       " (4, 'B', 'C'),\n",
       " (1, 'C', 'D'),\n",
       " (3, 'A', 'D')]"
      ]
     },
     "execution_count": 4,
     "metadata": {},
     "output_type": "execute_result"
    }
   ],
   "source": [
    "edges =list(graph['edges'])\n",
    "edges"
   ]
  },
  {
   "cell_type": "code",
   "execution_count": 5,
   "metadata": {},
   "outputs": [],
   "source": [
    "edges.sort()"
   ]
  },
  {
   "cell_type": "code",
   "execution_count": 6,
   "metadata": {},
   "outputs": [
    {
     "data": {
      "text/plain": [
       "[(1, 'A', 'B'),\n",
       " (1, 'C', 'D'),\n",
       " (2, 'B', 'D'),\n",
       " (3, 'A', 'D'),\n",
       " (4, 'B', 'C'),\n",
       " (5, 'A', 'C')]"
      ]
     },
     "execution_count": 6,
     "metadata": {},
     "output_type": "execute_result"
    }
   ],
   "source": [
    "edges"
   ]
  },
  {
   "cell_type": "code",
   "execution_count": 7,
   "metadata": {},
   "outputs": [],
   "source": [
    "students = [('john', 'A', 15), ('jane', 'B', 12), ('dave','B', 10)]\n"
   ]
  },
  {
   "cell_type": "code",
   "execution_count": 8,
   "metadata": {},
   "outputs": [],
   "source": [
    "students.sort()"
   ]
  },
  {
   "cell_type": "code",
   "execution_count": 9,
   "metadata": {},
   "outputs": [
    {
     "data": {
      "text/plain": [
       "[('dave', 'B', 10), ('jane', 'B', 12), ('john', 'A', 15)]"
      ]
     },
     "execution_count": 9,
     "metadata": {},
     "output_type": "execute_result"
    }
   ],
   "source": [
    "students"
   ]
  },
  {
   "cell_type": "code",
   "execution_count": 10,
   "metadata": {},
   "outputs": [],
   "source": [
    "students_2 = [('john', 'A', 15), ('jane', 'B', 12), ('dave','B', 10)]\n"
   ]
  },
  {
   "cell_type": "code",
   "execution_count": 11,
   "metadata": {},
   "outputs": [
    {
     "data": {
      "text/plain": [
       "[('john', 'A', 15), ('jane', 'B', 12), ('dave', 'B', 10)]"
      ]
     },
     "execution_count": 11,
     "metadata": {},
     "output_type": "execute_result"
    }
   ],
   "source": [
    "sorted(students_2, key = lambda x:x[2])\n",
    "students_2"
   ]
  },
  {
   "cell_type": "code",
   "execution_count": 12,
   "metadata": {},
   "outputs": [
    {
     "data": {
      "text/plain": [
       "[('john', 'A', 15), ('jane', 'B', 12), ('dave', 'B', 10)]"
      ]
     },
     "execution_count": 12,
     "metadata": {},
     "output_type": "execute_result"
    }
   ],
   "source": [
    "students_2"
   ]
  },
  {
   "cell_type": "code",
   "execution_count": 13,
   "metadata": {},
   "outputs": [
    {
     "data": {
      "text/plain": [
       "[('dave', 'B', 10), ('jane', 'B', 12), ('john', 'A', 15)]"
      ]
     },
     "execution_count": 13,
     "metadata": {},
     "output_type": "execute_result"
    }
   ],
   "source": [
    "sorted(students_2, key=lambda students_2: students_2[2])"
   ]
  },
  {
   "cell_type": "code",
   "execution_count": 14,
   "metadata": {},
   "outputs": [],
   "source": [
    "graph3 = {\n",
    "    0: {1: 10, 2: 6, 3: 5},\n",
    "    1: {0: 10, 3: 15},\n",
    "    2: {0: 6, 3: 4},\n",
    "    3: {0: 5, 1: 15, 2: 4}\n",
    "}"
   ]
  },
  {
   "cell_type": "code",
   "execution_count": 17,
   "metadata": {},
   "outputs": [
    {
     "name": "stdout",
     "output_type": "stream",
     "text": [
      "{1: 10, 2: 6, 3: 5}\n",
      "{0: 10, 3: 15}\n",
      "{0: 6, 3: 4}\n",
      "{0: 5, 1: 15, 2: 4}\n"
     ]
    }
   ],
   "source": [
    "for i in graph3:\n",
    "    print(graph3[i])"
   ]
  },
  {
   "cell_type": "code",
   "execution_count": 21,
   "metadata": {},
   "outputs": [
    {
     "name": "stdout",
     "output_type": "stream",
     "text": [
      "1\n",
      "2\n",
      "3\n",
      "0\n",
      "3\n",
      "0\n",
      "3\n",
      "0\n",
      "1\n",
      "2\n"
     ]
    }
   ],
   "source": [
    "for i in graph3:\n",
    "    for j in graph3[i].keys():\n",
    "        print(j)\n",
    "    "
   ]
  },
  {
   "cell_type": "code",
   "execution_count": 22,
   "metadata": {},
   "outputs": [
    {
     "name": "stdout",
     "output_type": "stream",
     "text": [
      "<built-in method items of dict object at 0x1043e2ee8>\n"
     ]
    }
   ],
   "source": [
    "print(graph3.items)"
   ]
  },
  {
   "cell_type": "code",
   "execution_count": 26,
   "metadata": {},
   "outputs": [
    {
     "name": "stdout",
     "output_type": "stream",
     "text": [
      "0 {1: 10, 2: 6, 3: 5}\n",
      "1 {0: 10, 3: 15}\n",
      "2 {0: 6, 3: 4}\n",
      "3 {0: 5, 1: 15, 2: 4}\n"
     ]
    }
   ],
   "source": [
    "for k, v in graph3.items():\n",
    "    print(k, v)"
   ]
  },
  {
   "cell_type": "code",
   "execution_count": 27,
   "metadata": {},
   "outputs": [],
   "source": [
    "aa = {(0, 1), (0, 3), (2, 3)}"
   ]
  },
  {
   "cell_type": "code",
   "execution_count": 30,
   "metadata": {},
   "outputs": [
    {
     "data": {
      "text/plain": [
       "[(0, 1), (0, 3), (2, 3)]"
      ]
     },
     "execution_count": 30,
     "metadata": {},
     "output_type": "execute_result"
    }
   ],
   "source": [
    "aa_list = list(aa)\n",
    "aa_list"
   ]
  },
  {
   "cell_type": "code",
   "execution_count": 34,
   "metadata": {},
   "outputs": [
    {
     "data": {
      "text/plain": [
       "3"
      ]
     },
     "execution_count": 34,
     "metadata": {},
     "output_type": "execute_result"
    }
   ],
   "source": [
    "len(aa_list)"
   ]
  },
  {
   "cell_type": "code",
   "execution_count": 47,
   "metadata": {},
   "outputs": [],
   "source": [
    "def prin_list(aa_list):\n",
    "    if i in aa_list:\n",
    "        print(i)"
   ]
  },
  {
   "cell_type": "code",
   "execution_count": 48,
   "metadata": {},
   "outputs": [],
   "source": [
    "prin_list(aa_list)"
   ]
  },
  {
   "cell_type": "code",
   "execution_count": null,
   "metadata": {},
   "outputs": [],
   "source": []
  }
 ],
 "metadata": {
  "kernelspec": {
   "display_name": "Python 3",
   "language": "python",
   "name": "python3"
  },
  "language_info": {
   "codemirror_mode": {
    "name": "ipython",
    "version": 3
   },
   "file_extension": ".py",
   "mimetype": "text/x-python",
   "name": "python",
   "nbconvert_exporter": "python",
   "pygments_lexer": "ipython3",
   "version": "3.6.5"
  }
 },
 "nbformat": 4,
 "nbformat_minor": 2
}
