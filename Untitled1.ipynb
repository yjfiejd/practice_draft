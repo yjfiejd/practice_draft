{
 "cells": [
  {
   "cell_type": "code",
   "execution_count": 1,
   "metadata": {},
   "outputs": [],
   "source": [
    "# 建立图-字典\n",
    "graph = {\n",
    "    \"A\": {\"B\": 5, \"C\": 1},\n",
    "    \"B\": {\"A\": 5, \"C\": 2, \"D\": 1},\n",
    "    \"C\": {\"A\": 1, \"B\": 2, \"D\": 4, \"E\": 8},\n",
    "    \"D\": {\"B\": 1, \"C\": 4, \"E\": 3, \"F\": 6},\n",
    "    \"E\": {\"C\": 8, \"D\": 3},\n",
    "    \"F\": {\"D\": 6}\n",
    "}"
   ]
  },
  {
   "cell_type": "code",
   "execution_count": 2,
   "metadata": {},
   "outputs": [],
   "source": [
    "nodes = graph.keys()"
   ]
  },
  {
   "cell_type": "code",
   "execution_count": 3,
   "metadata": {},
   "outputs": [
    {
     "data": {
      "text/plain": [
       "dict_keys(['A', 'B', 'C', 'D', 'E', 'F'])"
      ]
     },
     "execution_count": 3,
     "metadata": {},
     "output_type": "execute_result"
    }
   ],
   "source": [
    "nodes"
   ]
  },
  {
   "cell_type": "code",
   "execution_count": 5,
   "metadata": {
    "collapsed": true
   },
   "outputs": [
    {
     "name": "stdout",
     "output_type": "stream",
     "text": [
      "A A\n",
      "A B\n",
      "A C\n",
      "A D\n",
      "A E\n",
      "A F\n",
      "B A\n",
      "B B\n",
      "B C\n",
      "B D\n",
      "B E\n",
      "B F\n",
      "C A\n",
      "C B\n",
      "C C\n",
      "C D\n",
      "C E\n",
      "C F\n",
      "D A\n",
      "D B\n",
      "D C\n",
      "D D\n",
      "D E\n",
      "D F\n",
      "E A\n",
      "E B\n",
      "E C\n",
      "E D\n",
      "E E\n",
      "E F\n",
      "F A\n",
      "F B\n",
      "F C\n",
      "F D\n",
      "F E\n",
      "F F\n"
     ]
    }
   ],
   "source": [
    "for s in nodes:\n",
    "    for d in nodes:\n",
    "        print(s, d)\n"
   ]
  },
  {
   "cell_type": "code",
   "execution_count": null,
   "metadata": {},
   "outputs": [],
   "source": []
  }
 ],
 "metadata": {
  "kernelspec": {
   "display_name": "Python 3",
   "language": "python",
   "name": "python3"
  },
  "language_info": {
   "codemirror_mode": {
    "name": "ipython",
    "version": 3
   },
   "file_extension": ".py",
   "mimetype": "text/x-python",
   "name": "python",
   "nbconvert_exporter": "python",
   "pygments_lexer": "ipython3",
   "version": "3.6.5"
  }
 },
 "nbformat": 4,
 "nbformat_minor": 2
}
