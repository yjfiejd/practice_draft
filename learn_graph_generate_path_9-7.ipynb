{
 "cells": [
  {
   "cell_type": "code",
   "execution_count": 1,
   "metadata": {},
   "outputs": [],
   "source": [
    "graph = { \"a\" : [\"c\"],\n",
    "          \"b\" : [\"c\", \"e\"],\n",
    "          \"c\" : [\"a\", \"b\", \"d\", \"e\"],\n",
    "          \"d\" : [\"c\"],\n",
    "          \"e\" : [\"c\", \"b\"],\n",
    "          \"f\" : []\n",
    "        } "
   ]
  },
  {
   "cell_type": "code",
   "execution_count": 2,
   "metadata": {},
   "outputs": [],
   "source": [
    "from collections import defaultdict "
   ]
  },
  {
   "cell_type": "code",
   "execution_count": 3,
   "metadata": {},
   "outputs": [],
   "source": [
    "graph = defaultdict(list)\n",
    "def addEdge(graph, u, v):\n",
    "    graph[u].append(v)\n",
    "\n",
    "    \n",
    "def generate_edges(graph):\n",
    "    edges = []\n",
    "    for node in graph:\n",
    "        for neighbour in graph[node]:\n",
    "            edges.append((node, neighbour))\n",
    "    return edges"
   ]
  },
  {
   "cell_type": "code",
   "execution_count": 4,
   "metadata": {},
   "outputs": [],
   "source": [
    "addEdge(graph,'a','c') \n",
    "addEdge(graph,'b','c') \n",
    "addEdge(graph,'b','e') \n",
    "addEdge(graph,'c','d') \n",
    "addEdge(graph,'c','e') \n",
    "addEdge(graph,'c','a') \n",
    "addEdge(graph,'c','b') \n",
    "addEdge(graph,'e','b') \n",
    "addEdge(graph,'d','c') \n",
    "addEdge(graph,'e','c') "
   ]
  },
  {
   "cell_type": "code",
   "execution_count": 5,
   "metadata": {},
   "outputs": [
    {
     "name": "stdout",
     "output_type": "stream",
     "text": [
      "[('a', 'c'), ('b', 'c'), ('b', 'e'), ('c', 'd'), ('c', 'e'), ('c', 'a'), ('c', 'b'), ('e', 'b'), ('e', 'c'), ('d', 'c')]\n"
     ]
    }
   ],
   "source": [
    "c = generate_edges(graph)\n",
    "print(c)"
   ]
  },
  {
   "cell_type": "code",
   "execution_count": null,
   "metadata": {},
   "outputs": [],
   "source": []
  },
  {
   "cell_type": "code",
   "execution_count": 6,
   "metadata": {},
   "outputs": [],
   "source": [
    "graph2 = {\n",
    "    \"A\": {\"B\", \"C\"},\n",
    "    \"B\": {\"A\", \"C\", \"D\"},\n",
    "    \"C\": {\"A\", \"B\", \"D\", \"E\"},\n",
    "    \"D\": {\"B\", \"C\", \"E\", \"F\"},\n",
    "    \"E\": {\"C\", \"D\"},\n",
    "    \"F\": {\"D\"}\n",
    "}"
   ]
  },
  {
   "cell_type": "code",
   "execution_count": 7,
   "metadata": {},
   "outputs": [],
   "source": [
    "# 输入一个节点，找出和它相连的所有路径\n",
    "def DFS(graph, s):\n",
    "    stack = []\n",
    "    node_seq = []\n",
    "    seen = set()\n",
    "    stack.append(s)\n",
    "    seen.add(s)\n",
    "    \n",
    "    while (len(stack)>0):\n",
    "        vertex = stack.pop()\n",
    "        node_seq.append(vertex)\n",
    "        nodes = graph[vertex]\n",
    "        for w in nodes:\n",
    "            if w not in seen:\n",
    "                stack.append(w)\n",
    "                seen.add(w)\n",
    "#         print(vertex)\n",
    "    return node_seq\n"
   ]
  },
  {
   "cell_type": "code",
   "execution_count": 8,
   "metadata": {},
   "outputs": [
    {
     "name": "stdout",
     "output_type": "stream",
     "text": [
      "['A', 'C', 'E', 'D', 'F', 'B']\n"
     ]
    }
   ],
   "source": [
    "print(DFS(graph2, 'A')) #返回路径"
   ]
  },
  {
   "cell_type": "code",
   "execution_count": 9,
   "metadata": {},
   "outputs": [
    {
     "data": {
      "text/plain": [
       "6"
      ]
     },
     "execution_count": 9,
     "metadata": {},
     "output_type": "execute_result"
    }
   ],
   "source": [
    "len(graph2)"
   ]
  },
  {
   "cell_type": "code",
   "execution_count": 10,
   "metadata": {},
   "outputs": [],
   "source": [
    "# 遍历所有的节点，找到他们的路径\n",
    "def DFS_all_nodes(graph):\n",
    "    total_seq = []\n",
    "    for node in graph:\n",
    "        total_seq.append(DFS(graph, node))\n",
    "    return total_seq\n",
    "        "
   ]
  },
  {
   "cell_type": "code",
   "execution_count": 11,
   "metadata": {},
   "outputs": [
    {
     "data": {
      "text/plain": [
       "[['A', 'C', 'E', 'D', 'F', 'B'],\n",
       " ['B', 'C', 'E', 'A', 'D', 'F'],\n",
       " ['C', 'E', 'A', 'D', 'F', 'B'],\n",
       " ['D', 'C', 'A', 'E', 'F', 'B'],\n",
       " ['E', 'C', 'A', 'B', 'D', 'F'],\n",
       " ['F', 'D', 'C', 'A', 'E', 'B']]"
      ]
     },
     "execution_count": 11,
     "metadata": {},
     "output_type": "execute_result"
    }
   ],
   "source": [
    "DFS_all_nodes(graph2)"
   ]
  },
  {
   "cell_type": "code",
   "execution_count": 12,
   "metadata": {},
   "outputs": [],
   "source": [
    "all_nodes_path = [[106], [1], [108], [109, 108, 1], [107], [4], [5, 4], [6], [111], [8, 111], [110, 10, 11, 5, 4, 6, 8, 111], [10, 11], [11], [112], [13, 112], [14], [113, 110, 10, 11, 5, 4, 6, 8, 111, 13, 112, 14], [114], [115, 114], [17, 115, 114], [18, 17, 115, 114], [116, 18, 17, 115, 114], [117], [118, 117], [119], [120], [121, 122, 25, 120, 119, 118, 117], [122, 25], [25], [123], [27, 123], [124], [125], [126, 121, 122, 25, 120, 119, 118, 117, 27, 123, 125, 124], [127], [190], [186], [187], [188, 187], [189, 186, 127], [128], [129], [32, 129], [130], [131, 130], [132, 189, 186, 127, 34, 35, 128, 32, 129, 131, 130], [34, 35], [35], [134], [37, 134], [135], [136], [137, 132, 189, 186, 127, 34, 35, 128, 32, 129, 131, 130, 37, 134, 136, 135], [138], [139, 138], [140, 138], [41, 140, 138, 139], [141], [142], [143, 41, 140, 138, 139, 142, 141], [44, 48, 49, 46, 47, 45], [45, 47], [46, 47], [47], [48, 49], [49], [144], [145], [51], [191, 44, 48, 49, 46, 47, 45, 144, 145, 51], [192], [54], [148], [149], [150, 149], [151, 192, 54, 148, 150, 149], [56, 58, 59, 57], [57, 59], [58, 59], [59], [60, 61, 62, 56, 58, 59, 57], [61, 62], [62], [152], [153], [64], [193, 60, 61, 62, 56, 58, 59, 57, 152, 153, 64], [66], [67], [155, 67, 66], [185], [70], [71, 185, 70], [72, 75, 76], [73, 74, 72, 75, 76], [74], [75, 76], [76], [77], [78, 77], [156], [157], [79, 156, 157], [158], [159, 158], [194], [195, 161, 162, 78, 77, 79, 156, 157, 194, 159, 158], [161, 162], [162], [83], [84, 83], [85], [163], [164], [165], [166, 84, 83, 85, 165, 164, 163], [88], [89, 88], [167], [168], [169, 89, 88, 170, 168, 167], [170], [171], [172], [173, 172], [174, 173, 172], [175, 174, 173, 172], [176, 175, 174, 173, 172], [196, 176, 175, 174, 173, 172], [179], [180, 179], [100], [101], [181, 180, 179, 100, 101], [182], [183, 182], [104], [184, 104, 183, 182]]\n"
   ]
  },
  {
   "cell_type": "code",
   "execution_count": 13,
   "metadata": {},
   "outputs": [
    {
     "data": {
      "text/plain": [
       "138"
      ]
     },
     "execution_count": 13,
     "metadata": {},
     "output_type": "execute_result"
    }
   ],
   "source": [
    "len(all_nodes_path)"
   ]
  },
  {
   "cell_type": "code",
   "execution_count": 14,
   "metadata": {},
   "outputs": [],
   "source": [
    "total_path  = all_nodes_path"
   ]
  },
  {
   "cell_type": "code",
   "execution_count": 15,
   "metadata": {},
   "outputs": [],
   "source": [
    "def find_isolate_node(total_path):\n",
    "    isolate_node = []\n",
    "    for node_path in total_path:\n",
    "        if len(node_path) == 1:\n",
    "            isolate_node.append(node_path)\n",
    "    return isolate_node        "
   ]
  },
  {
   "cell_type": "code",
   "execution_count": 16,
   "metadata": {},
   "outputs": [
    {
     "name": "stdout",
     "output_type": "stream",
     "text": [
      "[[106], [1], [108], [107], [4], [6], [111], [11], [112], [14], [114], [117], [119], [120], [25], [123], [124], [125], [127], [190], [186], [187], [128], [129], [130], [35], [134], [135], [136], [138], [141], [142], [47], [49], [144], [145], [51], [192], [54], [148], [149], [59], [62], [152], [153], [64], [66], [67], [185], [70], [74], [76], [77], [156], [157], [158], [194], [162], [83], [85], [163], [164], [165], [88], [167], [168], [170], [171], [172], [179], [100], [101], [182], [104]]\n",
      "74\n"
     ]
    }
   ],
   "source": [
    "single_path = find_isolate_node(all_nodes_path)\n",
    "print(single_path)\n",
    "print(len(single_path))"
   ]
  },
  {
   "cell_type": "code",
   "execution_count": 17,
   "metadata": {},
   "outputs": [],
   "source": [
    "def find_real_isolate_node(single_path, total_path):\n",
    "    new_single_path = single_path\n",
    "    new_total_path = []\n",
    "    for j in total_path:\n",
    "        for h in j:\n",
    "            new_total_path.append(h)    \n",
    "    for i in single_path:\n",
    "        if i[0] in new_total_path:\n",
    "            new_single_path.remove(i)\n",
    "    return new_single_path"
   ]
  },
  {
   "cell_type": "code",
   "execution_count": 18,
   "metadata": {},
   "outputs": [
    {
     "name": "stdout",
     "output_type": "stream",
     "text": [
      "[[1], [107], [6], [11], [14], [117], [120], [123], [125], [190], [187], [129], [35], [135], [138], [142], [49], [145], [192], [148], [59], [152], [64], [67], [70], [76], [156], [158], [162], [85], [164], [88], [168], [171], [179], [101], [104]]\n",
      "37\n"
     ]
    }
   ],
   "source": [
    "real_isolate_node = find_real_isolate_node(single_path, total_path)\n",
    "print(real_isolate_node)\n",
    "print(len(real_isolate_node))"
   ]
  },
  {
   "cell_type": "code",
   "execution_count": 22,
   "metadata": {},
   "outputs": [],
   "source": [
    "aa = [[1], [2]]\n",
    "bb = [[8,4], [1], [2], [5, 6]]"
   ]
  },
  {
   "cell_type": "code",
   "execution_count": null,
   "metadata": {},
   "outputs": [],
   "source": []
  },
  {
   "cell_type": "code",
   "execution_count": 23,
   "metadata": {},
   "outputs": [],
   "source": [
    "def find_real_connected_node(aa,bb):\n",
    "    for i in aa:\n",
    "        if i in bb:\n",
    "            bb.remove(i)\n",
    "    return bb\n",
    "\n",
    "    "
   ]
  },
  {
   "cell_type": "code",
   "execution_count": 24,
   "metadata": {},
   "outputs": [
    {
     "data": {
      "text/plain": [
       "[[8, 4], [5, 6]]"
      ]
     },
     "execution_count": 24,
     "metadata": {},
     "output_type": "execute_result"
    }
   ],
   "source": [
    "find_real_connected_node(aa, bb)"
   ]
  },
  {
   "cell_type": "code",
   "execution_count": null,
   "metadata": {},
   "outputs": [],
   "source": []
  },
  {
   "cell_type": "code",
   "execution_count": null,
   "metadata": {
    "scrolled": true
   },
   "outputs": [],
   "source": [
    "# cccc = find_real_isolate_node(single_path, total_path)\n",
    "# cccc"
   ]
  },
  {
   "cell_type": "code",
   "execution_count": null,
   "metadata": {},
   "outputs": [],
   "source": [
    "len(cccc)"
   ]
  },
  {
   "cell_type": "code",
   "execution_count": null,
   "metadata": {
    "scrolled": true
   },
   "outputs": [],
   "source": [
    "find_isolate_node(all_nodes_path)"
   ]
  },
  {
   "cell_type": "code",
   "execution_count": null,
   "metadata": {},
   "outputs": [],
   "source": [
    "len(find_isolate_node(all_nodes_path))"
   ]
  },
  {
   "cell_type": "code",
   "execution_count": null,
   "metadata": {},
   "outputs": [],
   "source": []
  },
  {
   "cell_type": "code",
   "execution_count": null,
   "metadata": {},
   "outputs": [],
   "source": []
  },
  {
   "cell_type": "code",
   "execution_count": null,
   "metadata": {},
   "outputs": [],
   "source": []
  },
  {
   "cell_type": "code",
   "execution_count": null,
   "metadata": {},
   "outputs": [],
   "source": []
  },
  {
   "cell_type": "code",
   "execution_count": null,
   "metadata": {},
   "outputs": [],
   "source": []
  },
  {
   "cell_type": "code",
   "execution_count": null,
   "metadata": {},
   "outputs": [],
   "source": []
  },
  {
   "cell_type": "code",
   "execution_count": null,
   "metadata": {},
   "outputs": [],
   "source": []
  },
  {
   "cell_type": "code",
   "execution_count": null,
   "metadata": {},
   "outputs": [],
   "source": []
  },
  {
   "cell_type": "code",
   "execution_count": null,
   "metadata": {},
   "outputs": [],
   "source": []
  },
  {
   "cell_type": "code",
   "execution_count": null,
   "metadata": {},
   "outputs": [],
   "source": []
  },
  {
   "cell_type": "code",
   "execution_count": null,
   "metadata": {},
   "outputs": [],
   "source": []
  },
  {
   "cell_type": "code",
   "execution_count": null,
   "metadata": {},
   "outputs": [],
   "source": []
  },
  {
   "cell_type": "code",
   "execution_count": null,
   "metadata": {},
   "outputs": [],
   "source": [
    "a = [[1], [2], [4]]\n",
    "b = [[6, 7, 8], [3, 5, 7], [2]]"
   ]
  },
  {
   "cell_type": "code",
   "execution_count": null,
   "metadata": {},
   "outputs": [],
   "source": [
    "new_total_path = []\n",
    "for j in b:\n",
    "    for h in j:\n",
    "        new_total_path.append(h)\n",
    "print(new_total_path)"
   ]
  },
  {
   "cell_type": "code",
   "execution_count": null,
   "metadata": {},
   "outputs": [],
   "source": []
  },
  {
   "cell_type": "code",
   "execution_count": null,
   "metadata": {},
   "outputs": [],
   "source": [
    "len(b)"
   ]
  },
  {
   "cell_type": "code",
   "execution_count": null,
   "metadata": {},
   "outputs": [],
   "source": [
    "b[0]"
   ]
  },
  {
   "cell_type": "code",
   "execution_count": null,
   "metadata": {},
   "outputs": [],
   "source": [
    "a[0][0]"
   ]
  },
  {
   "cell_type": "code",
   "execution_count": null,
   "metadata": {},
   "outputs": [],
   "source": [
    "b[0]"
   ]
  },
  {
   "cell_type": "code",
   "execution_count": null,
   "metadata": {},
   "outputs": [],
   "source": [
    "a1 = [[1], [3], [4]]\n",
    "a1"
   ]
  },
  {
   "cell_type": "code",
   "execution_count": null,
   "metadata": {},
   "outputs": [],
   "source": [
    "a1.remove(a1[0])\n",
    "a1"
   ]
  },
  {
   "cell_type": "code",
   "execution_count": null,
   "metadata": {},
   "outputs": [],
   "source": [
    "a = [[1], [2], [4]]\n",
    "b = [[6, 7, 8], [3, 5, 7], [2]]"
   ]
  },
  {
   "cell_type": "code",
   "execution_count": null,
   "metadata": {},
   "outputs": [],
   "source": [
    "for i in a:\n",
    "    if i in b:\n",
    "        print(i)"
   ]
  },
  {
   "cell_type": "code",
   "execution_count": null,
   "metadata": {},
   "outputs": [],
   "source": [
    "# def find_real_isolate_node(a, b):\n",
    "#     new_single_path = a\n",
    "#     new_total_path = []\n",
    "#     print(new_single_path)\n",
    "#     print(\"-------\")\n",
    "#     print(new_total_path)\n",
    "#     for j in b:\n",
    "#         for h in j:\n",
    "#             new_total_path.append(h)\n",
    "#     print(new_total_path)\n",
    "    \n",
    "#     for i in a:\n",
    "# #         print(i)\n",
    "#         if i[0] in new_total_path:\n",
    "#             print(i[0])\n",
    "#             print(i)\n",
    "#             new_single_path.remove(i)\n",
    "#     return new_single_path"
   ]
  },
  {
   "cell_type": "code",
   "execution_count": null,
   "metadata": {},
   "outputs": [],
   "source": [
    "find_real_isolate_node(a, b)"
   ]
  },
  {
   "cell_type": "code",
   "execution_count": null,
   "metadata": {},
   "outputs": [],
   "source": []
  },
  {
   "cell_type": "code",
   "execution_count": null,
   "metadata": {},
   "outputs": [],
   "source": []
  },
  {
   "cell_type": "code",
   "execution_count": null,
   "metadata": {},
   "outputs": [],
   "source": []
  },
  {
   "cell_type": "code",
   "execution_count": null,
   "metadata": {},
   "outputs": [],
   "source": []
  },
  {
   "cell_type": "code",
   "execution_count": null,
   "metadata": {},
   "outputs": [],
   "source": []
  },
  {
   "cell_type": "code",
   "execution_count": null,
   "metadata": {},
   "outputs": [],
   "source": [
    "# 学习defalutdict()\n",
    "words = ['hello', 'world', 'nice', 'world']\n",
    "counter = dict()\n",
    "for kw in words:\n",
    "    counter[kw] += 1\n",
    "#这样写肯定会报错的，因为各词的个数都没有初始值，引发KeyError"
   ]
  },
  {
   "cell_type": "code",
   "execution_count": null,
   "metadata": {},
   "outputs": [],
   "source": [
    "s = [('xiaoming', 99), ('wu', 69), ('zhangsan', 80), ('lisi', 96), ('wu', 100), ('yuan', 98), ('xiaoming', 89)]\n",
    "d = defaultdict(list)"
   ]
  },
  {
   "cell_type": "code",
   "execution_count": null,
   "metadata": {},
   "outputs": [],
   "source": [
    "for k, v in s:\n",
    "    d[k].append(v)"
   ]
  },
  {
   "cell_type": "code",
   "execution_count": null,
   "metadata": {},
   "outputs": [],
   "source": [
    "d"
   ]
  },
  {
   "cell_type": "code",
   "execution_count": null,
   "metadata": {},
   "outputs": [],
   "source": [
    "for k, v in d.items():\n",
    "    print('%s: %s' % (k, v))"
   ]
  },
  {
   "cell_type": "code",
   "execution_count": 27,
   "metadata": {},
   "outputs": [],
   "source": [
    "aaaa = [[8, 111], [102]]\n",
    "bbbb = [[110, 10, 5, 3, 9, 8, 111], [11, 3, 44, 5,6]]\n"
   ]
  },
  {
   "cell_type": "code",
   "execution_count": 29,
   "metadata": {},
   "outputs": [],
   "source": [
    "for i in aaaa:\n",
    "    if i in bbbb:\n",
    "        print(i)\n",
    "        print('----')"
   ]
  },
  {
   "cell_type": "code",
   "execution_count": null,
   "metadata": {},
   "outputs": [],
   "source": []
  },
  {
   "cell_type": "code",
   "execution_count": null,
   "metadata": {},
   "outputs": [],
   "source": []
  },
  {
   "cell_type": "code",
   "execution_count": 30,
   "metadata": {},
   "outputs": [],
   "source": [
    "all_nodes_path = [[106], [1], [108], [109, 108, 1], [107], [4], [5, 4], [6], [111], [8, 111], [110, 10, 11, 5, 4, 6, 8, 111], [10, 11], [11], [112], [13, 112], [14], [113, 110, 10, 11, 5, 4, 6, 8, 111, 13, 112, 14], [114], [115, 114], [17, 115, 114], [18, 17, 115, 114], [116, 18, 17, 115, 114], [117], [118, 117], [119], [120], [121, 122, 25, 120, 119, 118, 117], [122, 25], [25], [123], [27, 123], [124], [125], [126, 121, 122, 25, 120, 119, 118, 117, 27, 123, 125, 124], [127], [190], [186], [187], [188, 187], [189, 186, 127], [128], [129], [32, 129], [130], [131, 130], [132, 189, 186, 127, 34, 35, 128, 32, 129, 131, 130], [34, 35], [35], [134], [37, 134], [135], [136], [137, 132, 189, 186, 127, 34, 35, 128, 32, 129, 131, 130, 37, 134, 136, 135], [138], [139, 138], [140, 138], [41, 140, 138, 139], [141], [142], [143, 41, 140, 138, 139, 142, 141], [44, 48, 49, 46, 47, 45], [45, 47], [46, 47], [47], [48, 49], [49], [144], [145], [51], [191, 44, 48, 49, 46, 47, 45, 144, 145, 51], [192], [54], [148], [149], [150, 149], [151, 192, 54, 148, 150, 149], [56, 58, 59, 57], [57, 59], [58, 59], [59], [60, 61, 62, 56, 58, 59, 57], [61, 62], [62], [152], [153], [64], [193, 60, 61, 62, 56, 58, 59, 57, 152, 153, 64], [66], [67], [155, 67, 66], [185], [70], [71, 185, 70], [72, 75, 76], [73, 74, 72, 75, 76], [74], [75, 76], [76], [77], [78, 77], [156], [157], [79, 156, 157], [158], [159, 158], [194], [195, 161, 162, 78, 77, 79, 156, 157, 194, 159, 158], [161, 162], [162], [83], [84, 83], [85], [163], [164], [165], [166, 84, 83, 85, 165, 164, 163], [88], [89, 88], [167], [168], [169, 89, 88, 170, 168, 167], [170], [171], [172], [173, 172], [174, 173, 172], [175, 174, 173, 172], [176, 175, 174, 173, 172], [196, 176, 175, 174, 173, 172], [179], [180, 179], [100], [101], [181, 180, 179, 100, 101], [182], [183, 182], [104], [184, 104, 183, 182]]"
   ]
  },
  {
   "cell_type": "code",
   "execution_count": null,
   "metadata": {},
   "outputs": [],
   "source": []
  },
  {
   "cell_type": "code",
   "execution_count": null,
   "metadata": {},
   "outputs": [],
   "source": []
  },
  {
   "cell_type": "code",
   "execution_count": null,
   "metadata": {},
   "outputs": [],
   "source": []
  }
 ],
 "metadata": {
  "kernelspec": {
   "display_name": "Python 3",
   "language": "python",
   "name": "python3"
  },
  "language_info": {
   "codemirror_mode": {
    "name": "ipython",
    "version": 3
   },
   "file_extension": ".py",
   "mimetype": "text/x-python",
   "name": "python",
   "nbconvert_exporter": "python",
   "pygments_lexer": "ipython3",
   "version": "3.6.5"
  }
 },
 "nbformat": 4,
 "nbformat_minor": 2
}
