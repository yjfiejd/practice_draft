{
 "cells": [
  {
   "cell_type": "markdown",
   "metadata": {},
   "source": [
    "https://networkx.github.io/documentation/stable/tutorial.html"
   ]
  },
  {
   "cell_type": "markdown",
   "metadata": {},
   "source": [
    "### 1) Networkx - creating a graph"
   ]
  },
  {
   "cell_type": "code",
   "execution_count": 1,
   "metadata": {},
   "outputs": [],
   "source": [
    "import networkx as nx"
   ]
  },
  {
   "cell_type": "code",
   "execution_count": 2,
   "metadata": {},
   "outputs": [],
   "source": [
    "G = nx.Graph()"
   ]
  },
  {
   "cell_type": "markdown",
   "metadata": {},
   "source": []
  },
  {
   "cell_type": "code",
   "execution_count": 3,
   "metadata": {},
   "outputs": [],
   "source": [
    "# 添加Nodes\n",
    "G.add_node(1)"
   ]
  },
  {
   "cell_type": "code",
   "execution_count": 4,
   "metadata": {},
   "outputs": [],
   "source": [
    "G.add_nodes_from([2, 3])"
   ]
  },
  {
   "cell_type": "code",
   "execution_count": 5,
   "metadata": {},
   "outputs": [],
   "source": [
    "H = nx.path_graph(10)\n",
    "G.add_nodes_from(H)"
   ]
  },
  {
   "cell_type": "code",
   "execution_count": 6,
   "metadata": {},
   "outputs": [],
   "source": [
    "G.add_node(H)"
   ]
  },
  {
   "cell_type": "code",
   "execution_count": 7,
   "metadata": {},
   "outputs": [],
   "source": [
    "# 添加边Edges"
   ]
  },
  {
   "cell_type": "code",
   "execution_count": 8,
   "metadata": {},
   "outputs": [],
   "source": [
    "G.add_edge(1, 2)"
   ]
  },
  {
   "cell_type": "code",
   "execution_count": 9,
   "metadata": {},
   "outputs": [],
   "source": [
    "e = (2, 3)\n",
    "G.add_edge(*e)"
   ]
  },
  {
   "cell_type": "code",
   "execution_count": 10,
   "metadata": {},
   "outputs": [],
   "source": [
    "G.add_edges_from([(1, 2), (1, 3)])"
   ]
  },
  {
   "cell_type": "code",
   "execution_count": 11,
   "metadata": {},
   "outputs": [],
   "source": [
    "# G.add_edge(2, 3, {'weight': 3.1415})"
   ]
  },
  {
   "cell_type": "code",
   "execution_count": 12,
   "metadata": {},
   "outputs": [],
   "source": [
    "G.add_edges_from(H.edges)"
   ]
  },
  {
   "cell_type": "code",
   "execution_count": 13,
   "metadata": {},
   "outputs": [],
   "source": [
    "G.clear()"
   ]
  },
  {
   "cell_type": "code",
   "execution_count": 14,
   "metadata": {},
   "outputs": [],
   "source": [
    "G.add_edges_from([(1, 2), (1, 3)])\n",
    "G.add_node(1)\n",
    "G.add_edge(1, 2)"
   ]
  },
  {
   "cell_type": "code",
   "execution_count": 15,
   "metadata": {},
   "outputs": [
    {
     "name": "stdout",
     "output_type": "stream",
     "text": [
      "3\n"
     ]
    }
   ],
   "source": [
    "print(G.number_of_nodes()) # 别忘了括号"
   ]
  },
  {
   "cell_type": "code",
   "execution_count": 16,
   "metadata": {},
   "outputs": [
    {
     "data": {
      "text/plain": [
       "2"
      ]
     },
     "execution_count": 16,
     "metadata": {},
     "output_type": "execute_result"
    }
   ],
   "source": [
    "G.number_of_edges()"
   ]
  },
  {
   "cell_type": "code",
   "execution_count": 17,
   "metadata": {},
   "outputs": [
    {
     "data": {
      "text/plain": [
       "[1, 2, 3]"
      ]
     },
     "execution_count": 17,
     "metadata": {},
     "output_type": "execute_result"
    }
   ],
   "source": [
    "list(G.nodes)"
   ]
  },
  {
   "cell_type": "code",
   "execution_count": 18,
   "metadata": {},
   "outputs": [
    {
     "data": {
      "text/plain": [
       "[(1, 2), (1, 3)]"
      ]
     },
     "execution_count": 18,
     "metadata": {},
     "output_type": "execute_result"
    }
   ],
   "source": [
    "list(G.edges)"
   ]
  },
  {
   "cell_type": "code",
   "execution_count": 19,
   "metadata": {},
   "outputs": [
    {
     "data": {
      "text/plain": [
       "[2, 3]"
      ]
     },
     "execution_count": 19,
     "metadata": {},
     "output_type": "execute_result"
    }
   ],
   "source": [
    "list(G.neighbors(1))"
   ]
  },
  {
   "cell_type": "code",
   "execution_count": 20,
   "metadata": {},
   "outputs": [
    {
     "data": {
      "text/plain": [
       "[1]"
      ]
     },
     "execution_count": 20,
     "metadata": {},
     "output_type": "execute_result"
    }
   ],
   "source": [
    "list(G.neighbors(2))"
   ]
  },
  {
   "cell_type": "code",
   "execution_count": 21,
   "metadata": {},
   "outputs": [
    {
     "data": {
      "text/plain": [
       "2"
      ]
     },
     "execution_count": 21,
     "metadata": {},
     "output_type": "execute_result"
    }
   ],
   "source": [
    "G.degree[1]"
   ]
  },
  {
   "cell_type": "code",
   "execution_count": 22,
   "metadata": {},
   "outputs": [],
   "source": [
    "G.remove_node(2)"
   ]
  },
  {
   "cell_type": "code",
   "execution_count": 23,
   "metadata": {},
   "outputs": [
    {
     "data": {
      "text/plain": [
       "[1, 3]"
      ]
     },
     "execution_count": 23,
     "metadata": {},
     "output_type": "execute_result"
    }
   ],
   "source": [
    "list(G.node)"
   ]
  },
  {
   "cell_type": "code",
   "execution_count": 24,
   "metadata": {},
   "outputs": [],
   "source": [
    "G.remove_edge(1, 3)"
   ]
  },
  {
   "cell_type": "code",
   "execution_count": 25,
   "metadata": {},
   "outputs": [
    {
     "data": {
      "text/plain": [
       "[]"
      ]
     },
     "execution_count": 25,
     "metadata": {},
     "output_type": "execute_result"
    }
   ],
   "source": [
    "list(G.edges)"
   ]
  },
  {
   "cell_type": "code",
   "execution_count": 26,
   "metadata": {},
   "outputs": [
    {
     "data": {
      "text/plain": [
       "[(1, 2), (2, 1)]"
      ]
     },
     "execution_count": 26,
     "metadata": {},
     "output_type": "execute_result"
    }
   ],
   "source": [
    "G.add_edge(1, 2)\n",
    "H = nx.DiGraph(G)\n",
    "list(H.edges)"
   ]
  },
  {
   "cell_type": "code",
   "execution_count": 27,
   "metadata": {},
   "outputs": [],
   "source": [
    "edgelist = [(0, 1), (1, 2), (2, 3)]\n"
   ]
  },
  {
   "cell_type": "code",
   "execution_count": 28,
   "metadata": {},
   "outputs": [],
   "source": [
    "H = nx.Graph(edgelist)"
   ]
  },
  {
   "cell_type": "code",
   "execution_count": null,
   "metadata": {},
   "outputs": [],
   "source": []
  },
  {
   "cell_type": "code",
   "execution_count": 29,
   "metadata": {},
   "outputs": [
    {
     "data": {
      "text/plain": [
       "AtlasView({2: {}})"
      ]
     },
     "execution_count": 29,
     "metadata": {},
     "output_type": "execute_result"
    }
   ],
   "source": [
    "G[1]"
   ]
  },
  {
   "cell_type": "code",
   "execution_count": 30,
   "metadata": {},
   "outputs": [
    {
     "data": {
      "text/plain": [
       "{}"
      ]
     },
     "execution_count": 30,
     "metadata": {},
     "output_type": "execute_result"
    }
   ],
   "source": [
    "G.edges[1, 2]"
   ]
  },
  {
   "cell_type": "code",
   "execution_count": 31,
   "metadata": {},
   "outputs": [],
   "source": [
    "G.add_edge(1, 3)"
   ]
  },
  {
   "cell_type": "code",
   "execution_count": 32,
   "metadata": {},
   "outputs": [],
   "source": [
    "G[1][3]['color'] = \"blue\"\n",
    "G.edges[1, 2]['colors'] = \"red\""
   ]
  },
  {
   "cell_type": "code",
   "execution_count": 33,
   "metadata": {},
   "outputs": [
    {
     "data": {
      "text/plain": [
       "[(1, 2), (1, 3)]"
      ]
     },
     "execution_count": 33,
     "metadata": {},
     "output_type": "execute_result"
    }
   ],
   "source": [
    "list(G.edges)"
   ]
  },
  {
   "cell_type": "code",
   "execution_count": 34,
   "metadata": {},
   "outputs": [
    {
     "data": {
      "text/plain": [
       "[1, 3, 2]"
      ]
     },
     "execution_count": 34,
     "metadata": {},
     "output_type": "execute_result"
    }
   ],
   "source": [
    "list(G.nodes)"
   ]
  },
  {
   "cell_type": "code",
   "execution_count": 35,
   "metadata": {},
   "outputs": [],
   "source": [
    "# 遍历节点\n",
    "FG = nx.Graph()\n",
    "FG.add_weighted_edges_from([(1, 2, 0.125), (1, 3, 0.75), (2, 4, 1.2), (3, 4, 0.375)])"
   ]
  },
  {
   "cell_type": "code",
   "execution_count": 36,
   "metadata": {},
   "outputs": [
    {
     "data": {
      "text/plain": [
       "ItemsView(AdjacencyView({1: {2: {'weight': 0.125}, 3: {'weight': 0.75}}, 2: {1: {'weight': 0.125}, 4: {'weight': 1.2}}, 3: {1: {'weight': 0.75}, 4: {'weight': 0.375}}, 4: {2: {'weight': 1.2}, 3: {'weight': 0.375}}}))"
      ]
     },
     "execution_count": 36,
     "metadata": {},
     "output_type": "execute_result"
    }
   ],
   "source": [
    "FG.adj.items()"
   ]
  },
  {
   "cell_type": "code",
   "execution_count": 37,
   "metadata": {},
   "outputs": [
    {
     "name": "stdout",
     "output_type": "stream",
     "text": [
      "nbrs.items():  ItemsView(AtlasView({2: {'weight': 0.125}, 3: {'weight': 0.75}}))\n",
      "2 0.125\n",
      "3 0.75\n",
      "nbrs.items():  ItemsView(AtlasView({1: {'weight': 0.125}, 4: {'weight': 1.2}}))\n",
      "1 0.125\n",
      "4 1.2\n",
      "nbrs.items():  ItemsView(AtlasView({1: {'weight': 0.75}, 4: {'weight': 0.375}}))\n",
      "1 0.75\n",
      "4 0.375\n",
      "nbrs.items():  ItemsView(AtlasView({2: {'weight': 1.2}, 3: {'weight': 0.375}}))\n",
      "2 1.2\n",
      "3 0.375\n"
     ]
    }
   ],
   "source": [
    "for n, nbrs in FG.adj.items():  # 把所有的行，对应的东西拿出来， 返回每个节点对应的东西\n",
    "    print(\"nbrs.items(): \", nbrs.items())\n",
    "    for nbr, eattr in nbrs.items(): # 把每一行对应的东西取出来\n",
    "        wt = eattr['weight']\n",
    "        print(nbr, wt)"
   ]
  },
  {
   "cell_type": "code",
   "execution_count": 38,
   "metadata": {},
   "outputs": [
    {
     "name": "stdout",
     "output_type": "stream",
     "text": [
      "(1, 2, 0.125)\n",
      "(1, 3, 0.75)\n",
      "(2, 4, 1.2)\n",
      "(3, 4, 0.375)\n"
     ]
    }
   ],
   "source": [
    "for (u, v, wt) in FG.edges.data('weight'):\n",
    "    print((u, v, wt))"
   ]
  },
  {
   "cell_type": "code",
   "execution_count": 39,
   "metadata": {},
   "outputs": [
    {
     "data": {
      "text/plain": [
       "{'day': 'Friday'}"
      ]
     },
     "execution_count": 39,
     "metadata": {},
     "output_type": "execute_result"
    }
   ],
   "source": [
    "G = nx.Graph(day = \"Friday\")\n",
    "G.graph"
   ]
  },
  {
   "cell_type": "code",
   "execution_count": 40,
   "metadata": {},
   "outputs": [],
   "source": [
    "G.graph['day'] = \"Monday\""
   ]
  },
  {
   "cell_type": "code",
   "execution_count": 41,
   "metadata": {},
   "outputs": [
    {
     "data": {
      "text/plain": [
       "{'day': 'Monday'}"
      ]
     },
     "execution_count": 41,
     "metadata": {},
     "output_type": "execute_result"
    }
   ],
   "source": [
    "G.graph"
   ]
  },
  {
   "cell_type": "code",
   "execution_count": 42,
   "metadata": {},
   "outputs": [
    {
     "data": {
      "text/plain": [
       "{'time': '5pm'}"
      ]
     },
     "execution_count": 42,
     "metadata": {},
     "output_type": "execute_result"
    }
   ],
   "source": [
    "G.add_node(1, time='5pm')\n",
    "G.add_nodes_from([3], time = '2pm')\n",
    "G.nodes[1]"
   ]
  },
  {
   "cell_type": "code",
   "execution_count": 43,
   "metadata": {},
   "outputs": [
    {
     "data": {
      "text/plain": [
       "NodeDataView({1: {'time': '5pm', 'room': 714}, 3: {'time': '2pm'}})"
      ]
     },
     "execution_count": 43,
     "metadata": {},
     "output_type": "execute_result"
    }
   ],
   "source": [
    "G.nodes[1]['room'] = 714\n",
    "G.nodes.data()"
   ]
  },
  {
   "cell_type": "code",
   "execution_count": 44,
   "metadata": {},
   "outputs": [
    {
     "data": {
      "text/plain": [
       "NodeDataView({1: {'time': '5pm', 'room': 714}, 3: {'time': '2pm', 'haha': 124}})"
      ]
     },
     "execution_count": 44,
     "metadata": {},
     "output_type": "execute_result"
    }
   ],
   "source": [
    "G.nodes[3]['haha'] = 124\n",
    "G.nodes.data()"
   ]
  },
  {
   "cell_type": "code",
   "execution_count": null,
   "metadata": {},
   "outputs": [],
   "source": []
  },
  {
   "cell_type": "code",
   "execution_count": 45,
   "metadata": {},
   "outputs": [],
   "source": [
    "# Directed graphs"
   ]
  },
  {
   "cell_type": "code",
   "execution_count": 46,
   "metadata": {},
   "outputs": [],
   "source": [
    "DG = nx.DiGraph()"
   ]
  },
  {
   "cell_type": "code",
   "execution_count": 47,
   "metadata": {},
   "outputs": [
    {
     "data": {
      "text/plain": [
       "OutDegreeView({1: 1, 2: 0, 3: 1})"
      ]
     },
     "execution_count": 47,
     "metadata": {},
     "output_type": "execute_result"
    }
   ],
   "source": [
    "DG.add_weighted_edges_from([(1, 2, 0.5), (3, 1, 0.75)])\n",
    "DG.out_degree"
   ]
  },
  {
   "cell_type": "code",
   "execution_count": 48,
   "metadata": {},
   "outputs": [
    {
     "data": {
      "text/plain": [
       "0.5"
      ]
     },
     "execution_count": 48,
     "metadata": {},
     "output_type": "execute_result"
    }
   ],
   "source": [
    "DG.out_degree(1, weight='weight')"
   ]
  },
  {
   "cell_type": "code",
   "execution_count": 49,
   "metadata": {},
   "outputs": [
    {
     "data": {
      "text/plain": [
       "[2]"
      ]
     },
     "execution_count": 49,
     "metadata": {},
     "output_type": "execute_result"
    }
   ],
   "source": [
    "list(DG.successors(1)) # 后继节点"
   ]
  },
  {
   "cell_type": "code",
   "execution_count": 50,
   "metadata": {},
   "outputs": [],
   "source": [
    "H = nx.Graph(G)"
   ]
  },
  {
   "cell_type": "code",
   "execution_count": null,
   "metadata": {},
   "outputs": [],
   "source": []
  },
  {
   "cell_type": "code",
   "execution_count": null,
   "metadata": {},
   "outputs": [],
   "source": []
  },
  {
   "cell_type": "code",
   "execution_count": 51,
   "metadata": {},
   "outputs": [],
   "source": [
    "G = nx.Graph()"
   ]
  },
  {
   "cell_type": "code",
   "execution_count": 52,
   "metadata": {},
   "outputs": [],
   "source": [
    "G.add_edges_from([(1, 2), (1, 3)])"
   ]
  },
  {
   "cell_type": "code",
   "execution_count": 53,
   "metadata": {},
   "outputs": [],
   "source": [
    "G.add_node(\"spam\")"
   ]
  },
  {
   "cell_type": "code",
   "execution_count": 54,
   "metadata": {},
   "outputs": [
    {
     "data": {
      "text/plain": [
       "[{1, 2, 3}, {'spam'}]"
      ]
     },
     "execution_count": 54,
     "metadata": {},
     "output_type": "execute_result"
    }
   ],
   "source": [
    "list(nx.connected_components(G))"
   ]
  },
  {
   "cell_type": "code",
   "execution_count": 55,
   "metadata": {},
   "outputs": [],
   "source": [
    "F = nx.Graph()"
   ]
  },
  {
   "cell_type": "code",
   "execution_count": 56,
   "metadata": {},
   "outputs": [],
   "source": [
    "F.add_edges_from([(0, 1), (0, 2), (0, 3), (1, 2), (1, 3), (2, 1), (3, 1), (3, 4), (4, 2)])\n"
   ]
  },
  {
   "cell_type": "code",
   "execution_count": 57,
   "metadata": {},
   "outputs": [
    {
     "data": {
      "text/plain": [
       "[{0, 1, 2, 3, 4}]"
      ]
     },
     "execution_count": 57,
     "metadata": {},
     "output_type": "execute_result"
    }
   ],
   "source": [
    "list(nx.connected_components(F))"
   ]
  },
  {
   "cell_type": "code",
   "execution_count": 58,
   "metadata": {},
   "outputs": [],
   "source": [
    "all_edges2 = [(109, 1), (109, 108), (5, 4), (8, 111), (110, 8), (110, 6), (110, 5), (110, 10), (10, 11), (13, 112),\n",
    "              (113, 14), (113, 13), (113, 110), (115, 114), (17, 115), (18, 17), (116, 18), (118, 117), (121, 118),\n",
    "              (121, 119), (121, 120), (121, 122), (122, 25), (27, 123), (126, 124), (126, 125), (126, 27), (126, 121),\n",
    "              (188, 187), (189, 127), (189, 186), (32, 129), (131, 130), (132, 131), (132, 32), (132, 128), (132, 34),\n",
    "              (132, 189), (34, 35), (37, 134), (137, 135), (137, 136), (137, 37), (137, 132), (139, 138), (140, 138),\n",
    "              (41, 139), (41, 140), (143, 141), (143, 142), (143, 41), (44, 45), (44, 46), (44, 48), (45, 47), (46, 47),\n",
    "              (48, 49), (191, 51), (191, 145), (191, 144), (191, 44), (150, 149), (151, 150), (151, 148), (151, 54),\n",
    "              (151, 192), (56, 57), (56, 58), (57, 59), (58, 59), (60, 56), (60, 61), (61, 62), (193, 64), (193, 153),\n",
    "              (193, 152), (193, 60), (155, 66), (155, 67), (71, 70), (71, 185), (72, 75), (73, 72), (73, 74), (75, 76),\n",
    "              (78, 77), (79, 157), (79, 156), (159, 158), (195, 159), (195, 194), (195, 79), (195, 78), (195, 161),\n",
    "              (161, 162), (84, 83), (166, 163), (166, 164), (166, 165), (166, 85), (166, 84), (89, 88), (169, 167),\n",
    "              (169, 168), (169, 170), (169, 89), (173, 172), (174, 173), (175, 174), (176, 175), (196, 176), (180, 179),\n",
    "              (181, 101), (181, 100), (181, 180), (183, 182), (184, 183), (184, 104)]\n"
   ]
  },
  {
   "cell_type": "code",
   "execution_count": 59,
   "metadata": {},
   "outputs": [],
   "source": [
    "Test_graph = nx.Graph()"
   ]
  },
  {
   "cell_type": "code",
   "execution_count": 60,
   "metadata": {},
   "outputs": [],
   "source": [
    "Test_graph.add_edges_from(all_edges2)"
   ]
  },
  {
   "cell_type": "code",
   "execution_count": 61,
   "metadata": {},
   "outputs": [
    {
     "data": {
      "text/plain": [
       "[{1, 108, 109},\n",
       " {4, 5, 6, 8, 10, 11, 13, 14, 110, 111, 112, 113},\n",
       " {17, 18, 114, 115, 116},\n",
       " {25, 27, 117, 118, 119, 120, 121, 122, 123, 124, 125, 126},\n",
       " {187, 188},\n",
       " {32, 34, 35, 37, 127, 128, 129, 130, 131, 132, 134, 135, 136, 137, 186, 189},\n",
       " {41, 138, 139, 140, 141, 142, 143},\n",
       " {44, 45, 46, 47, 48, 49, 51, 144, 145, 191},\n",
       " {54, 148, 149, 150, 151, 192},\n",
       " {56, 57, 58, 59, 60, 61, 62, 64, 152, 153, 193},\n",
       " {66, 67, 155},\n",
       " {70, 71, 185},\n",
       " {72, 73, 74, 75, 76},\n",
       " {77, 78, 79, 156, 157, 158, 159, 161, 162, 194, 195},\n",
       " {83, 84, 85, 163, 164, 165, 166},\n",
       " {88, 89, 167, 168, 169, 170},\n",
       " {172, 173, 174, 175, 176, 196},\n",
       " {100, 101, 179, 180, 181},\n",
       " {104, 182, 183, 184}]"
      ]
     },
     "execution_count": 61,
     "metadata": {},
     "output_type": "execute_result"
    }
   ],
   "source": [
    "aa = list(nx.connected_components(Test_graph))\n",
    "aa"
   ]
  },
  {
   "cell_type": "code",
   "execution_count": 73,
   "metadata": {},
   "outputs": [
    {
     "data": {
      "text/plain": [
       "EdgeView([(109, 1), (109, 108), (5, 4), (5, 110), (8, 111), (8, 110), (110, 6), (110, 10), (110, 113), (10, 11), (13, 112), (13, 113), (113, 14), (115, 114), (115, 17), (17, 18), (18, 116), (118, 117), (118, 121), (121, 119), (121, 120), (121, 122), (121, 126), (122, 25), (27, 123), (27, 126), (126, 124), (126, 125), (188, 187), (189, 127), (189, 186), (189, 132), (32, 129), (32, 132), (131, 130), (131, 132), (132, 128), (132, 34), (132, 137), (34, 35), (37, 134), (37, 137), (137, 135), (137, 136), (139, 138), (139, 41), (138, 140), (140, 41), (41, 143), (143, 141), (143, 142), (44, 45), (44, 46), (44, 48), (44, 191), (45, 47), (46, 47), (48, 49), (191, 51), (191, 145), (191, 144), (150, 149), (150, 151), (151, 148), (151, 54), (151, 192), (56, 57), (56, 58), (56, 60), (57, 59), (58, 59), (60, 61), (60, 193), (61, 62), (193, 64), (193, 153), (193, 152), (155, 66), (155, 67), (71, 70), (71, 185), (72, 75), (72, 73), (75, 76), (73, 74), (78, 77), (78, 195), (79, 157), (79, 156), (79, 195), (159, 158), (159, 195), (195, 194), (195, 161), (161, 162), (84, 83), (84, 166), (166, 163), (166, 164), (166, 165), (166, 85), (89, 88), (89, 169), (169, 167), (169, 168), (169, 170), (173, 172), (173, 174), (174, 175), (175, 176), (176, 196), (180, 179), (180, 181), (181, 101), (181, 100), (183, 182), (183, 184), (184, 104)])"
      ]
     },
     "execution_count": 73,
     "metadata": {},
     "output_type": "execute_result"
    }
   ],
   "source": [
    "Test_graph.edges()"
   ]
  },
  {
   "cell_type": "code",
   "execution_count": null,
   "metadata": {},
   "outputs": [],
   "source": [
    "Test_graph"
   ]
  },
  {
   "cell_type": "code",
   "execution_count": 65,
   "metadata": {},
   "outputs": [],
   "source": [
    "a_set = set()\n",
    "for i in aa:\n",
    "    for j in i:\n",
    "        a_set.add(j)"
   ]
  },
  {
   "cell_type": "code",
   "execution_count": 67,
   "metadata": {
    "collapsed": true
   },
   "outputs": [
    {
     "data": {
      "text/plain": [
       "{1,\n",
       " 4,\n",
       " 5,\n",
       " 6,\n",
       " 8,\n",
       " 10,\n",
       " 11,\n",
       " 13,\n",
       " 14,\n",
       " 17,\n",
       " 18,\n",
       " 25,\n",
       " 27,\n",
       " 32,\n",
       " 34,\n",
       " 35,\n",
       " 37,\n",
       " 41,\n",
       " 44,\n",
       " 45,\n",
       " 46,\n",
       " 47,\n",
       " 48,\n",
       " 49,\n",
       " 51,\n",
       " 54,\n",
       " 56,\n",
       " 57,\n",
       " 58,\n",
       " 59,\n",
       " 60,\n",
       " 61,\n",
       " 62,\n",
       " 64,\n",
       " 66,\n",
       " 67,\n",
       " 70,\n",
       " 71,\n",
       " 72,\n",
       " 73,\n",
       " 74,\n",
       " 75,\n",
       " 76,\n",
       " 77,\n",
       " 78,\n",
       " 79,\n",
       " 83,\n",
       " 84,\n",
       " 85,\n",
       " 88,\n",
       " 89,\n",
       " 100,\n",
       " 101,\n",
       " 104,\n",
       " 108,\n",
       " 109,\n",
       " 110,\n",
       " 111,\n",
       " 112,\n",
       " 113,\n",
       " 114,\n",
       " 115,\n",
       " 116,\n",
       " 117,\n",
       " 118,\n",
       " 119,\n",
       " 120,\n",
       " 121,\n",
       " 122,\n",
       " 123,\n",
       " 124,\n",
       " 125,\n",
       " 126,\n",
       " 127,\n",
       " 128,\n",
       " 129,\n",
       " 130,\n",
       " 131,\n",
       " 132,\n",
       " 134,\n",
       " 135,\n",
       " 136,\n",
       " 137,\n",
       " 138,\n",
       " 139,\n",
       " 140,\n",
       " 141,\n",
       " 142,\n",
       " 143,\n",
       " 144,\n",
       " 145,\n",
       " 148,\n",
       " 149,\n",
       " 150,\n",
       " 151,\n",
       " 152,\n",
       " 153,\n",
       " 155,\n",
       " 156,\n",
       " 157,\n",
       " 158,\n",
       " 159,\n",
       " 161,\n",
       " 162,\n",
       " 163,\n",
       " 164,\n",
       " 165,\n",
       " 166,\n",
       " 167,\n",
       " 168,\n",
       " 169,\n",
       " 170,\n",
       " 172,\n",
       " 173,\n",
       " 174,\n",
       " 175,\n",
       " 176,\n",
       " 179,\n",
       " 180,\n",
       " 181,\n",
       " 182,\n",
       " 183,\n",
       " 184,\n",
       " 185,\n",
       " 186,\n",
       " 187,\n",
       " 188,\n",
       " 189,\n",
       " 191,\n",
       " 192,\n",
       " 193,\n",
       " 194,\n",
       " 195,\n",
       " 196}"
      ]
     },
     "execution_count": 67,
     "metadata": {},
     "output_type": "execute_result"
    }
   ],
   "source": [
    "a_set # 一共有多少个元素"
   ]
  },
  {
   "cell_type": "code",
   "execution_count": 70,
   "metadata": {},
   "outputs": [
    {
     "name": "stdout",
     "output_type": "stream",
     "text": [
      "134\n",
      "[1, 4, 5, 6, 8, 10, 11, 13, 14, 17, 18, 25, 27, 32, 34, 35, 37, 41, 44, 45, 46, 47, 48, 49, 51, 54, 56, 57, 58, 59, 60, 61, 62, 64, 66, 67, 70, 71, 72, 73, 74, 75, 76, 77, 78, 79, 83, 84, 85, 88, 89, 100, 101, 104, 108, 109, 110, 111, 112, 113, 114, 115, 116, 117, 118, 119, 120, 121, 122, 123, 124, 125, 126, 127, 128, 129, 130, 131, 132, 134, 135, 136, 137, 138, 139, 140, 141, 142, 143, 144, 145, 148, 149, 150, 151, 152, 153, 155, 156, 157, 158, 159, 161, 162, 163, 164, 165, 166, 167, 168, 169, 170, 172, 173, 174, 175, 176, 179, 180, 181, 182, 183, 184, 185, 186, 187, 188, 189, 191, 192, 193, 194, 195, 196]\n"
     ]
    }
   ],
   "source": [
    "a_set_list = list(a_set)\n",
    "a_set_list\n",
    "print(len(a_set_list))\n",
    "print(a_set_list)"
   ]
  },
  {
   "cell_type": "code",
   "execution_count": null,
   "metadata": {},
   "outputs": [],
   "source": []
  },
  {
   "cell_type": "code",
   "execution_count": 72,
   "metadata": {
    "scrolled": true
   },
   "outputs": [
    {
     "name": "stdout",
     "output_type": "stream",
     "text": [
      "134\n",
      "[109, 1, 108, 5, 4, 8, 111, 110, 6, 10, 11, 13, 112, 113, 14, 115, 114, 17, 18, 116, 118, 117, 121, 119, 120, 122, 25, 27, 123, 126, 124, 125, 188, 187, 189, 127, 186, 32, 129, 131, 130, 132, 128, 34, 35, 37, 134, 137, 135, 136, 139, 138, 140, 41, 143, 141, 142, 44, 45, 46, 48, 47, 49, 191, 51, 145, 144, 150, 149, 151, 148, 54, 192, 56, 57, 58, 59, 60, 61, 62, 193, 64, 153, 152, 155, 66, 67, 71, 70, 185, 72, 75, 73, 74, 76, 78, 77, 79, 157, 156, 159, 158, 195, 194, 161, 162, 84, 83, 166, 163, 164, 165, 85, 89, 88, 169, 167, 168, 170, 173, 172, 174, 175, 176, 196, 180, 179, 181, 101, 100, 183, 182, 184, 104]\n"
     ]
    }
   ],
   "source": [
    "a_dfs_tree = list(nx.dfs_tree(Test_graph))\n",
    "print(len(a_dfs_tree))\n",
    "print(a_dfs_tree)"
   ]
  },
  {
   "cell_type": "code",
   "execution_count": null,
   "metadata": {},
   "outputs": [],
   "source": []
  }
 ],
 "metadata": {
  "kernelspec": {
   "display_name": "Python 3",
   "language": "python",
   "name": "python3"
  },
  "language_info": {
   "codemirror_mode": {
    "name": "ipython",
    "version": 3
   },
   "file_extension": ".py",
   "mimetype": "text/x-python",
   "name": "python",
   "nbconvert_exporter": "python",
   "pygments_lexer": "ipython3",
   "version": "3.6.5"
  }
 },
 "nbformat": 4,
 "nbformat_minor": 2
}
